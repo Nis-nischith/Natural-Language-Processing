{
  "nbformat": 4,
  "nbformat_minor": 0,
  "metadata": {
    "colab": {
      "provenance": [],
      "toc_visible": true
    },
    "kernelspec": {
      "name": "python3",
      "display_name": "Python 3"
    },
    "language_info": {
      "name": "python"
    }
  },
  "cells": [
    {
      "cell_type": "markdown",
      "source": [
        "## stemming"
      ],
      "metadata": {
        "id": "_IGadX-7ixe_"
      }
    },
    {
      "cell_type": "markdown",
      "source": [
        "Tools - NLTK"
      ],
      "metadata": {
        "id": "De16CtYyi3P0"
      }
    },
    {
      "cell_type": "code",
      "source": [
        "import nltk\n",
        "import spacy"
      ],
      "metadata": {
        "id": "BH0tSf7oituM"
      },
      "execution_count": null,
      "outputs": []
    },
    {
      "cell_type": "code",
      "source": [
        "from nltk.stem import PorterStemmer\n",
        "\n",
        "stemmer = PorterStemmer()"
      ],
      "metadata": {
        "id": "uS8fnlCJi7gg"
      },
      "execution_count": null,
      "outputs": []
    },
    {
      "cell_type": "code",
      "source": [
        "words = [\"eating\", \"eats\", \"eat\", \"ate\", \"adjustable\", \"rafting\", \"ability\", \"meeting\"]\n",
        "\n",
        "for word in words:\n",
        "  print(word, \"|\", stemmer.stem(word))"
      ],
      "metadata": {
        "colab": {
          "base_uri": "https://localhost:8080/"
        },
        "id": "QvhUaQsijE26",
        "outputId": "0a2801a3-f210-4451-80fe-5f9dbed2cc81"
      },
      "execution_count": null,
      "outputs": [
        {
          "output_type": "stream",
          "name": "stdout",
          "text": [
            "eating | eat\n",
            "eats | eat\n",
            "eat | eat\n",
            "ate | ate\n",
            "adjustable | adjust\n",
            "rafting | raft\n",
            "ability | abil\n",
            "meeting | meet\n"
          ]
        }
      ]
    },
    {
      "cell_type": "markdown",
      "source": [
        "## lemmatization"
      ],
      "metadata": {
        "id": "K-M2KMfyjywd"
      }
    },
    {
      "cell_type": "markdown",
      "source": [
        "Tools - Spacy"
      ],
      "metadata": {
        "id": "8Awq9dWVj49I"
      }
    },
    {
      "cell_type": "code",
      "source": [
        "nlp = spacy.load(\"en_core_web_sm\")\n",
        "\n",
        "doc =nlp(\"Eating eats eat ate adjustable rafting ability wearing better\")\n",
        "\n",
        "for token in doc:\n",
        "  print(token.text, \"|\", token.lemma_)"
      ],
      "metadata": {
        "colab": {
          "base_uri": "https://localhost:8080/"
        },
        "id": "LXjUPINSjqmc",
        "outputId": "3621d81a-c707-4baa-8d81-c9b0f5c94240"
      },
      "execution_count": null,
      "outputs": [
        {
          "output_type": "stream",
          "name": "stdout",
          "text": [
            "Eating | eat\n",
            "eats | eat\n",
            "eat | eat\n",
            "ate | eat\n",
            "adjustable | adjustable\n",
            "rafting | raft\n",
            "ability | ability\n",
            "wearing | wear\n",
            "better | well\n"
          ]
        }
      ]
    },
    {
      "cell_type": "code",
      "source": [
        "nlp.pipe_names"
      ],
      "metadata": {
        "colab": {
          "base_uri": "https://localhost:8080/"
        },
        "id": "ZjInuoXNkxex",
        "outputId": "2a0cb66b-e3ff-4717-dee0-23f536757796"
      },
      "execution_count": null,
      "outputs": [
        {
          "output_type": "execute_result",
          "data": {
            "text/plain": [
              "['tok2vec', 'tagger', 'parser', 'attribute_ruler', 'lemmatizer', 'ner']"
            ]
          },
          "metadata": {},
          "execution_count": 5
        }
      ]
    },
    {
      "cell_type": "code",
      "source": [
        "ar = nlp.get_pipe('attribute_ruler')\n",
        "ar.add([[{\"TEXT\": \"Bro\"}],[{\"TEXT\": \"Brah\"}]], {\"LEMMA\" : \"Brother\"})\n",
        "doc= nlp(\"Bro , hi Brah , wassup\")\n",
        "for token in doc:\n",
        "  print(token.text, \"|\", token.lemma_)"
      ],
      "metadata": {
        "colab": {
          "base_uri": "https://localhost:8080/"
        },
        "id": "E0li3XiHkz_F",
        "outputId": "f29f8699-9f43-4ab2-9714-6ed255611529"
      },
      "execution_count": null,
      "outputs": [
        {
          "output_type": "stream",
          "name": "stdout",
          "text": [
            "Bro | Brother\n",
            ", | ,\n",
            "hi | hi\n",
            "Brah | Brother\n",
            ", | ,\n",
            "wassup | wassup\n"
          ]
        }
      ]
    },
    {
      "cell_type": "markdown",
      "source": [
        "## Part OF Speech - POS"
      ],
      "metadata": {
        "id": "g78QhHzG8TA1"
      }
    },
    {
      "cell_type": "code",
      "source": [
        "doc= nlp(\"A person flew to mars yesterday. He carried biryani masala with him\")\n",
        "for token in doc:\n",
        "  print(token, \"|\", token.pos_, \"|\", spacy.explain(token.pos_), \"|\", token.tag_, \"|\", spacy.explain(token.tag_) )"
      ],
      "metadata": {
        "colab": {
          "base_uri": "https://localhost:8080/"
        },
        "id": "0kDFKGMjlx-P",
        "outputId": "eca8755a-5f8c-4af6-e8a3-b8aa0de35df1"
      },
      "execution_count": null,
      "outputs": [
        {
          "output_type": "stream",
          "name": "stdout",
          "text": [
            "A | DET | determiner | DT | determiner\n",
            "person | NOUN | noun | NN | noun, singular or mass\n",
            "flew | VERB | verb | VBD | verb, past tense\n",
            "to | ADP | adposition | IN | conjunction, subordinating or preposition\n",
            "mars | NOUN | noun | NNS | noun, plural\n",
            "yesterday | NOUN | noun | NN | noun, singular or mass\n",
            ". | PUNCT | punctuation | . | punctuation mark, sentence closer\n",
            "He | PRON | pronoun | PRP | pronoun, personal\n",
            "carried | VERB | verb | VBD | verb, past tense\n",
            "biryani | ADJ | adjective | JJ | adjective (English), other noun-modifier (Chinese)\n",
            "masala | NOUN | noun | NN | noun, singular or mass\n",
            "with | ADP | adposition | IN | conjunction, subordinating or preposition\n",
            "him | PRON | pronoun | PRP | pronoun, personal\n"
          ]
        }
      ]
    },
    {
      "cell_type": "code",
      "source": [
        "count = doc.count_by(spacy.attrs.POS)\n",
        "count"
      ],
      "metadata": {
        "colab": {
          "base_uri": "https://localhost:8080/"
        },
        "id": "F24C1Cq89yD0",
        "outputId": "74a467be-08f2-468d-a578-58aec4853df0"
      },
      "execution_count": null,
      "outputs": [
        {
          "output_type": "execute_result",
          "data": {
            "text/plain": [
              "{90: 1, 92: 4, 100: 2, 85: 2, 97: 1, 95: 2, 84: 1}"
            ]
          },
          "metadata": {},
          "execution_count": 8
        }
      ]
    },
    {
      "cell_type": "code",
      "source": [
        "for k in count.keys():\n",
        "  print(doc.vocab[k].text, \"|\", count[k])"
      ],
      "metadata": {
        "colab": {
          "base_uri": "https://localhost:8080/"
        },
        "id": "W2_Twz2I_3p_",
        "outputId": "8b8b65d8-b6a8-4ff6-a43f-b5e34583470c"
      },
      "execution_count": null,
      "outputs": [
        {
          "output_type": "stream",
          "name": "stdout",
          "text": [
            "DET | 1\n",
            "NOUN | 4\n",
            "VERB | 2\n",
            "ADP | 2\n",
            "PUNCT | 1\n",
            "PRON | 2\n",
            "ADJ | 1\n"
          ]
        }
      ]
    },
    {
      "cell_type": "markdown",
      "source": [
        "## Named Entity Recognition - NER"
      ],
      "metadata": {
        "id": "ol2kxOzyDnDn"
      }
    },
    {
      "cell_type": "code",
      "source": [
        "doc= nlp(\"Damn! Tesla Inc is going to acquire Twitter for $45 billion which is crazy!\")\n",
        "for ent in doc.ents:\n",
        "  print(ent.text, \"|\", ent.label_, \"|\", spacy.explain(ent.label_))"
      ],
      "metadata": {
        "colab": {
          "base_uri": "https://localhost:8080/"
        },
        "id": "xOWtIcTKDs6T",
        "outputId": "0a1d727f-85f1-4900-e4bf-e2dc5f01e239"
      },
      "execution_count": null,
      "outputs": [
        {
          "output_type": "stream",
          "name": "stdout",
          "text": [
            "Tesla Inc | ORG | Companies, agencies, institutions, etc.\n",
            "Twitter | PRODUCT | Objects, vehicles, foods, etc. (not services)\n",
            "$45 billion | MONEY | Monetary values, including unit\n"
          ]
        }
      ]
    },
    {
      "cell_type": "code",
      "source": [
        "doc= nlp(\"Tesla is going to acquire twitter for $45 billion\")\n",
        "for ent in doc.ents:\n",
        "  print(ent, \"|\", ent.label_, \"|\", spacy.explain(ent.label_))"
      ],
      "metadata": {
        "colab": {
          "base_uri": "https://localhost:8080/"
        },
        "id": "PDX9pf4NCp92",
        "outputId": "dc9d568a-94bc-4381-9f19-62df1844919f"
      },
      "execution_count": null,
      "outputs": [
        {
          "output_type": "stream",
          "name": "stdout",
          "text": [
            "Tesla | ORG | Companies, agencies, institutions, etc.\n",
            "$45 billion | MONEY | Monetary values, including unit\n"
          ]
        }
      ]
    },
    {
      "cell_type": "code",
      "source": [
        "from spacy.tokens import Span\n",
        "\n",
        "s1= Span(doc, 0, 1, label=\"ORG\")\n",
        "s2= Span(doc, 5, 6, label=\"ORG\")\n",
        "\n",
        "doc.set_ents([s1, s2], default=\"unmodified\")\n",
        "\n",
        "for ent in doc.ents:\n",
        "  print(ent, \"|\", ent.label_, \"|\", spacy.explain(ent.label_))"
      ],
      "metadata": {
        "colab": {
          "base_uri": "https://localhost:8080/"
        },
        "id": "Rf6hGzO9C65g",
        "outputId": "44251898-447b-49f0-ffa2-cf68dca86c47"
      },
      "execution_count": null,
      "outputs": [
        {
          "output_type": "stream",
          "name": "stdout",
          "text": [
            "Tesla | ORG | Companies, agencies, institutions, etc.\n",
            "twitter | ORG | Companies, agencies, institutions, etc.\n",
            "$45 billion | MONEY | Monetary values, including unit\n"
          ]
        }
      ]
    },
    {
      "cell_type": "markdown",
      "source": [
        "## Spam classification using bag of words"
      ],
      "metadata": {
        "id": "rS2h0W9ZHBE5"
      }
    },
    {
      "cell_type": "code",
      "source": [
        "import pandas as pd\n",
        "import numpy as np"
      ],
      "metadata": {
        "id": "dwix5W4-WWHc"
      },
      "execution_count": null,
      "outputs": []
    },
    {
      "cell_type": "code",
      "source": [
        "df =pd.read_csv(\"/content/spam.csv\")\n",
        "df.info()"
      ],
      "metadata": {
        "id": "TsdCUiPvESU1",
        "colab": {
          "base_uri": "https://localhost:8080/"
        },
        "outputId": "75cce9ad-a8c7-4d5a-96e6-3d3139b48906"
      },
      "execution_count": null,
      "outputs": [
        {
          "output_type": "stream",
          "name": "stdout",
          "text": [
            "<class 'pandas.core.frame.DataFrame'>\n",
            "RangeIndex: 5572 entries, 0 to 5571\n",
            "Data columns (total 2 columns):\n",
            " #   Column    Non-Null Count  Dtype \n",
            "---  ------    --------------  ----- \n",
            " 0   Category  5572 non-null   object\n",
            " 1   Message   5572 non-null   object\n",
            "dtypes: object(2)\n",
            "memory usage: 87.2+ KB\n"
          ]
        }
      ]
    },
    {
      "cell_type": "code",
      "source": [
        "df.Category.value_counts()"
      ],
      "metadata": {
        "colab": {
          "base_uri": "https://localhost:8080/"
        },
        "id": "wijK_UXpWbIj",
        "outputId": "ff399015-1db2-478f-fda3-5ba83a24115d"
      },
      "execution_count": null,
      "outputs": [
        {
          "output_type": "execute_result",
          "data": {
            "text/plain": [
              "Category\n",
              "ham     4825\n",
              "spam     747\n",
              "Name: count, dtype: int64"
            ]
          },
          "metadata": {},
          "execution_count": 64
        }
      ]
    },
    {
      "cell_type": "code",
      "source": [
        "df['spam'] = df.Category.apply(lambda x: 1 if x=='spam' else 0)"
      ],
      "metadata": {
        "id": "PoAzs-XMdlAM"
      },
      "execution_count": null,
      "outputs": []
    },
    {
      "cell_type": "code",
      "source": [
        "df.head(3)"
      ],
      "metadata": {
        "colab": {
          "base_uri": "https://localhost:8080/",
          "height": 143
        },
        "id": "sBuia4jDd5Mc",
        "outputId": "f2620a4e-f45e-498d-c7aa-8c438cb3b36f"
      },
      "execution_count": null,
      "outputs": [
        {
          "output_type": "execute_result",
          "data": {
            "text/plain": [
              "  Category                                            Message  spam\n",
              "0      ham  Go until jurong point, crazy.. Available only ...     0\n",
              "1      ham                      Ok lar... Joking wif u oni...     0\n",
              "2     spam  Free entry in 2 a wkly comp to win FA Cup fina...     1"
            ],
            "text/html": [
              "\n",
              "  <div id=\"df-e9e03433-70a0-45a1-b9fd-5869429c7bfc\" class=\"colab-df-container\">\n",
              "    <div>\n",
              "<style scoped>\n",
              "    .dataframe tbody tr th:only-of-type {\n",
              "        vertical-align: middle;\n",
              "    }\n",
              "\n",
              "    .dataframe tbody tr th {\n",
              "        vertical-align: top;\n",
              "    }\n",
              "\n",
              "    .dataframe thead th {\n",
              "        text-align: right;\n",
              "    }\n",
              "</style>\n",
              "<table border=\"1\" class=\"dataframe\">\n",
              "  <thead>\n",
              "    <tr style=\"text-align: right;\">\n",
              "      <th></th>\n",
              "      <th>Category</th>\n",
              "      <th>Message</th>\n",
              "      <th>spam</th>\n",
              "    </tr>\n",
              "  </thead>\n",
              "  <tbody>\n",
              "    <tr>\n",
              "      <th>0</th>\n",
              "      <td>ham</td>\n",
              "      <td>Go until jurong point, crazy.. Available only ...</td>\n",
              "      <td>0</td>\n",
              "    </tr>\n",
              "    <tr>\n",
              "      <th>1</th>\n",
              "      <td>ham</td>\n",
              "      <td>Ok lar... Joking wif u oni...</td>\n",
              "      <td>0</td>\n",
              "    </tr>\n",
              "    <tr>\n",
              "      <th>2</th>\n",
              "      <td>spam</td>\n",
              "      <td>Free entry in 2 a wkly comp to win FA Cup fina...</td>\n",
              "      <td>1</td>\n",
              "    </tr>\n",
              "  </tbody>\n",
              "</table>\n",
              "</div>\n",
              "    <div class=\"colab-df-buttons\">\n",
              "\n",
              "  <div class=\"colab-df-container\">\n",
              "    <button class=\"colab-df-convert\" onclick=\"convertToInteractive('df-e9e03433-70a0-45a1-b9fd-5869429c7bfc')\"\n",
              "            title=\"Convert this dataframe to an interactive table.\"\n",
              "            style=\"display:none;\">\n",
              "\n",
              "  <svg xmlns=\"http://www.w3.org/2000/svg\" height=\"24px\" viewBox=\"0 -960 960 960\">\n",
              "    <path d=\"M120-120v-720h720v720H120Zm60-500h600v-160H180v160Zm220 220h160v-160H400v160Zm0 220h160v-160H400v160ZM180-400h160v-160H180v160Zm440 0h160v-160H620v160ZM180-180h160v-160H180v160Zm440 0h160v-160H620v160Z\"/>\n",
              "  </svg>\n",
              "    </button>\n",
              "\n",
              "  <style>\n",
              "    .colab-df-container {\n",
              "      display:flex;\n",
              "      gap: 12px;\n",
              "    }\n",
              "\n",
              "    .colab-df-convert {\n",
              "      background-color: #E8F0FE;\n",
              "      border: none;\n",
              "      border-radius: 50%;\n",
              "      cursor: pointer;\n",
              "      display: none;\n",
              "      fill: #1967D2;\n",
              "      height: 32px;\n",
              "      padding: 0 0 0 0;\n",
              "      width: 32px;\n",
              "    }\n",
              "\n",
              "    .colab-df-convert:hover {\n",
              "      background-color: #E2EBFA;\n",
              "      box-shadow: 0px 1px 2px rgba(60, 64, 67, 0.3), 0px 1px 3px 1px rgba(60, 64, 67, 0.15);\n",
              "      fill: #174EA6;\n",
              "    }\n",
              "\n",
              "    .colab-df-buttons div {\n",
              "      margin-bottom: 4px;\n",
              "    }\n",
              "\n",
              "    [theme=dark] .colab-df-convert {\n",
              "      background-color: #3B4455;\n",
              "      fill: #D2E3FC;\n",
              "    }\n",
              "\n",
              "    [theme=dark] .colab-df-convert:hover {\n",
              "      background-color: #434B5C;\n",
              "      box-shadow: 0px 1px 3px 1px rgba(0, 0, 0, 0.15);\n",
              "      filter: drop-shadow(0px 1px 2px rgba(0, 0, 0, 0.3));\n",
              "      fill: #FFFFFF;\n",
              "    }\n",
              "  </style>\n",
              "\n",
              "    <script>\n",
              "      const buttonEl =\n",
              "        document.querySelector('#df-e9e03433-70a0-45a1-b9fd-5869429c7bfc button.colab-df-convert');\n",
              "      buttonEl.style.display =\n",
              "        google.colab.kernel.accessAllowed ? 'block' : 'none';\n",
              "\n",
              "      async function convertToInteractive(key) {\n",
              "        const element = document.querySelector('#df-e9e03433-70a0-45a1-b9fd-5869429c7bfc');\n",
              "        const dataTable =\n",
              "          await google.colab.kernel.invokeFunction('convertToInteractive',\n",
              "                                                    [key], {});\n",
              "        if (!dataTable) return;\n",
              "\n",
              "        const docLinkHtml = 'Like what you see? Visit the ' +\n",
              "          '<a target=\"_blank\" href=https://colab.research.google.com/notebooks/data_table.ipynb>data table notebook</a>'\n",
              "          + ' to learn more about interactive tables.';\n",
              "        element.innerHTML = '';\n",
              "        dataTable['output_type'] = 'display_data';\n",
              "        await google.colab.output.renderOutput(dataTable, element);\n",
              "        const docLink = document.createElement('div');\n",
              "        docLink.innerHTML = docLinkHtml;\n",
              "        element.appendChild(docLink);\n",
              "      }\n",
              "    </script>\n",
              "  </div>\n",
              "\n",
              "\n",
              "<div id=\"df-2a7e75f4-03cf-4eb8-9d99-e2c5f7effb39\">\n",
              "  <button class=\"colab-df-quickchart\" onclick=\"quickchart('df-2a7e75f4-03cf-4eb8-9d99-e2c5f7effb39')\"\n",
              "            title=\"Suggest charts\"\n",
              "            style=\"display:none;\">\n",
              "\n",
              "<svg xmlns=\"http://www.w3.org/2000/svg\" height=\"24px\"viewBox=\"0 0 24 24\"\n",
              "     width=\"24px\">\n",
              "    <g>\n",
              "        <path d=\"M19 3H5c-1.1 0-2 .9-2 2v14c0 1.1.9 2 2 2h14c1.1 0 2-.9 2-2V5c0-1.1-.9-2-2-2zM9 17H7v-7h2v7zm4 0h-2V7h2v10zm4 0h-2v-4h2v4z\"/>\n",
              "    </g>\n",
              "</svg>\n",
              "  </button>\n",
              "\n",
              "<style>\n",
              "  .colab-df-quickchart {\n",
              "      --bg-color: #E8F0FE;\n",
              "      --fill-color: #1967D2;\n",
              "      --hover-bg-color: #E2EBFA;\n",
              "      --hover-fill-color: #174EA6;\n",
              "      --disabled-fill-color: #AAA;\n",
              "      --disabled-bg-color: #DDD;\n",
              "  }\n",
              "\n",
              "  [theme=dark] .colab-df-quickchart {\n",
              "      --bg-color: #3B4455;\n",
              "      --fill-color: #D2E3FC;\n",
              "      --hover-bg-color: #434B5C;\n",
              "      --hover-fill-color: #FFFFFF;\n",
              "      --disabled-bg-color: #3B4455;\n",
              "      --disabled-fill-color: #666;\n",
              "  }\n",
              "\n",
              "  .colab-df-quickchart {\n",
              "    background-color: var(--bg-color);\n",
              "    border: none;\n",
              "    border-radius: 50%;\n",
              "    cursor: pointer;\n",
              "    display: none;\n",
              "    fill: var(--fill-color);\n",
              "    height: 32px;\n",
              "    padding: 0;\n",
              "    width: 32px;\n",
              "  }\n",
              "\n",
              "  .colab-df-quickchart:hover {\n",
              "    background-color: var(--hover-bg-color);\n",
              "    box-shadow: 0 1px 2px rgba(60, 64, 67, 0.3), 0 1px 3px 1px rgba(60, 64, 67, 0.15);\n",
              "    fill: var(--button-hover-fill-color);\n",
              "  }\n",
              "\n",
              "  .colab-df-quickchart-complete:disabled,\n",
              "  .colab-df-quickchart-complete:disabled:hover {\n",
              "    background-color: var(--disabled-bg-color);\n",
              "    fill: var(--disabled-fill-color);\n",
              "    box-shadow: none;\n",
              "  }\n",
              "\n",
              "  .colab-df-spinner {\n",
              "    border: 2px solid var(--fill-color);\n",
              "    border-color: transparent;\n",
              "    border-bottom-color: var(--fill-color);\n",
              "    animation:\n",
              "      spin 1s steps(1) infinite;\n",
              "  }\n",
              "\n",
              "  @keyframes spin {\n",
              "    0% {\n",
              "      border-color: transparent;\n",
              "      border-bottom-color: var(--fill-color);\n",
              "      border-left-color: var(--fill-color);\n",
              "    }\n",
              "    20% {\n",
              "      border-color: transparent;\n",
              "      border-left-color: var(--fill-color);\n",
              "      border-top-color: var(--fill-color);\n",
              "    }\n",
              "    30% {\n",
              "      border-color: transparent;\n",
              "      border-left-color: var(--fill-color);\n",
              "      border-top-color: var(--fill-color);\n",
              "      border-right-color: var(--fill-color);\n",
              "    }\n",
              "    40% {\n",
              "      border-color: transparent;\n",
              "      border-right-color: var(--fill-color);\n",
              "      border-top-color: var(--fill-color);\n",
              "    }\n",
              "    60% {\n",
              "      border-color: transparent;\n",
              "      border-right-color: var(--fill-color);\n",
              "    }\n",
              "    80% {\n",
              "      border-color: transparent;\n",
              "      border-right-color: var(--fill-color);\n",
              "      border-bottom-color: var(--fill-color);\n",
              "    }\n",
              "    90% {\n",
              "      border-color: transparent;\n",
              "      border-bottom-color: var(--fill-color);\n",
              "    }\n",
              "  }\n",
              "</style>\n",
              "\n",
              "  <script>\n",
              "    async function quickchart(key) {\n",
              "      const quickchartButtonEl =\n",
              "        document.querySelector('#' + key + ' button');\n",
              "      quickchartButtonEl.disabled = true;  // To prevent multiple clicks.\n",
              "      quickchartButtonEl.classList.add('colab-df-spinner');\n",
              "      try {\n",
              "        const charts = await google.colab.kernel.invokeFunction(\n",
              "            'suggestCharts', [key], {});\n",
              "      } catch (error) {\n",
              "        console.error('Error during call to suggestCharts:', error);\n",
              "      }\n",
              "      quickchartButtonEl.classList.remove('colab-df-spinner');\n",
              "      quickchartButtonEl.classList.add('colab-df-quickchart-complete');\n",
              "    }\n",
              "    (() => {\n",
              "      let quickchartButtonEl =\n",
              "        document.querySelector('#df-2a7e75f4-03cf-4eb8-9d99-e2c5f7effb39 button');\n",
              "      quickchartButtonEl.style.display =\n",
              "        google.colab.kernel.accessAllowed ? 'block' : 'none';\n",
              "    })();\n",
              "  </script>\n",
              "</div>\n",
              "\n",
              "    </div>\n",
              "  </div>\n"
            ],
            "application/vnd.google.colaboratory.intrinsic+json": {
              "type": "dataframe",
              "variable_name": "df",
              "summary": "{\n  \"name\": \"df\",\n  \"rows\": 5572,\n  \"fields\": [\n    {\n      \"column\": \"Category\",\n      \"properties\": {\n        \"dtype\": \"category\",\n        \"num_unique_values\": 2,\n        \"samples\": [\n          \"spam\",\n          \"ham\"\n        ],\n        \"semantic_type\": \"\",\n        \"description\": \"\"\n      }\n    },\n    {\n      \"column\": \"Message\",\n      \"properties\": {\n        \"dtype\": \"string\",\n        \"num_unique_values\": 5157,\n        \"samples\": [\n          \"Also sir, i sent you an email about how to log into the usc payment portal. I.ll send you another message that should explain how things are back home. Have a great weekend.\",\n          \"Are you free now?can i call now?\"\n        ],\n        \"semantic_type\": \"\",\n        \"description\": \"\"\n      }\n    },\n    {\n      \"column\": \"spam\",\n      \"properties\": {\n        \"dtype\": \"number\",\n        \"std\": 0,\n        \"min\": 0,\n        \"max\": 1,\n        \"num_unique_values\": 2,\n        \"samples\": [\n          1,\n          0\n        ],\n        \"semantic_type\": \"\",\n        \"description\": \"\"\n      }\n    }\n  ]\n}"
            }
          },
          "metadata": {},
          "execution_count": 66
        }
      ]
    },
    {
      "cell_type": "code",
      "source": [
        "from sklearn.model_selection import train_test_split\n",
        "\n",
        "X_train, X_test, y_train, y_test = train_test_split(df.Message, df.spam, test_size=0.2)"
      ],
      "metadata": {
        "id": "Hj3O5v58eFXd"
      },
      "execution_count": null,
      "outputs": []
    },
    {
      "cell_type": "code",
      "source": [
        "from sklearn.feature_extraction.text import CountVectorizer\n",
        "v = CountVectorizer()\n",
        "x_train_cv = v.fit_transform(X_train)"
      ],
      "metadata": {
        "id": "kqQ99Sm3edD3"
      },
      "execution_count": null,
      "outputs": []
    },
    {
      "cell_type": "code",
      "source": [
        "x_train_np= x_train_cv.toarray()"
      ],
      "metadata": {
        "id": "uDuS03YSfW6c"
      },
      "execution_count": null,
      "outputs": []
    },
    {
      "cell_type": "code",
      "source": [
        "x_train_np.shape"
      ],
      "metadata": {
        "colab": {
          "base_uri": "https://localhost:8080/"
        },
        "id": "k9OB3af3gCic",
        "outputId": "e9e6dba4-6dca-4a8c-e6d2-430c4c3314a9"
      },
      "execution_count": null,
      "outputs": [
        {
          "output_type": "execute_result",
          "data": {
            "text/plain": [
              "(4457, 7801)"
            ]
          },
          "metadata": {},
          "execution_count": 70
        }
      ]
    },
    {
      "cell_type": "code",
      "source": [
        "v.get_feature_names_out()[0:100]"
      ],
      "metadata": {
        "colab": {
          "base_uri": "https://localhost:8080/"
        },
        "id": "BQNBwYI0glVY",
        "outputId": "12ec80d8-c597-4e51-dacd-952dca9cb5c4"
      },
      "execution_count": null,
      "outputs": [
        {
          "output_type": "execute_result",
          "data": {
            "text/plain": [
              "array(['00', '000', '000pes', '008704050406', '0089', '0121',\n",
              "       '01223585236', '01223585334', '0125698789', '02', '0207',\n",
              "       '02072069400', '02073162414', '02085076972', '021', '03', '04',\n",
              "       '0430', '05', '0578', '06', '07', '07008009200', '07046744435',\n",
              "       '07090201529', '07090298926', '07099833605', '07123456789',\n",
              "       '0721072', '07734396839', '07742676969', '07753741225',\n",
              "       '0776xxxxxxx', '07781482378', '07786200117', '077xxx', '078',\n",
              "       '07801543489', '07808247860', '07808726822', '07815296484',\n",
              "       '07821230901', '078498', '07880867867', '0789xxxxxxx',\n",
              "       '07946746291', '07973788240', '07xxxxxxxxx', '08', '0800',\n",
              "       '08000407165', '08000776320', '08000839402', '08000930705',\n",
              "       '08000938767', '08001950382', '08002888812', '08002986030',\n",
              "       '08002986906', '08006344447', '0808', '08081263000', '08081560665',\n",
              "       '0825', '083', '0844', '08448350055', '08448714184', '0845',\n",
              "       '08450542832', '08452810073', '08452810075over18', '0870',\n",
              "       '08700435505150p', '08700469649', '08700621170150p', '08701213186',\n",
              "       '08701237397', '08701417012', '08701417012150p', '0870141701216',\n",
              "       '08701752560', '087018728737', '08702840625', '08704050406',\n",
              "       '08704439680', '08704439680ts', '08706091795', '0870737910216yrs',\n",
              "       '08707500020', '08707509020', '0870753331018', '08707808226',\n",
              "       '08708034412', '08708800282', '08709222922', '08709501522', '0871',\n",
              "       '087104711148', '08712101358'], dtype=object)"
            ]
          },
          "metadata": {},
          "execution_count": 71
        }
      ]
    },
    {
      "cell_type": "code",
      "source": [
        "v.vocabulary_"
      ],
      "metadata": {
        "colab": {
          "base_uri": "https://localhost:8080/"
        },
        "collapsed": true,
        "id": "Zlyo_k8Qgyey",
        "outputId": "5a1e7f48-eeaf-4645-965e-babc46fb0929"
      },
      "execution_count": null,
      "outputs": [
        {
          "output_type": "execute_result",
          "data": {
            "text/plain": [
              "{'hi': 3469,\n",
              " 'can': 1655,\n",
              " 'please': 5313,\n",
              " 'get': 3170,\n",
              " 'lt': 4305,\n",
              " 'gt': 3305,\n",
              " 'dollar': 2436,\n",
              " 'loan': 4221,\n",
              " 'from': 3067,\n",
              " 'you': 7762,\n",
              " 'll': 4215,\n",
              " 'pay': 5181,\n",
              " 'back': 1224,\n",
              " 'by': 1618,\n",
              " 'mid': 4523,\n",
              " 'february': 2841,\n",
              " 'pls': 5320,\n",
              " 'ok': 4979,\n",
              " 'wont': 7637,\n",
              " 'call': 1632,\n",
              " 'or': 5036,\n",
              " 'disturb': 2392,\n",
              " 'any': 1022,\n",
              " 'one': 5003,\n",
              " 'know': 4014,\n",
              " 'all': 940,\n",
              " 'are': 1076,\n",
              " 'avoiding': 1192,\n",
              " 'me': 4460,\n",
              " 'am': 962,\n",
              " 'burden': 1587,\n",
              " 'for': 2984,\n",
              " 'oh': 4974,\n",
              " 'gei': 3153,\n",
              " 'that': 6872,\n",
              " 'happend': 3371,\n",
              " 'to': 6991,\n",
              " 'in': 3685,\n",
              " 'tron': 7100,\n",
              " 'maybe': 4454,\n",
              " 'ill': 3655,\n",
              " 'dl': 2402,\n",
              " 'it': 3805,\n",
              " '3d': 480,\n",
              " 'when': 7534,\n",
              " 'its': 3813,\n",
              " 'out': 5070,\n",
              " 'sorry': 6386,\n",
              " 'later': 4083,\n",
              " 'guy': 3323,\n",
              " 'who': 7550,\n",
              " 'gets': 3172,\n",
              " 'used': 7276,\n",
              " 'but': 1602,\n",
              " 'is': 3793,\n",
              " 'too': 7029,\n",
              " 'dumb': 2522,\n",
              " 'realize': 5669,\n",
              " 'anyway': 1034,\n",
              " 'holla': 3514,\n",
              " 'at': 1145,\n",
              " 'whenever': 7535,\n",
              " 're': 5651,\n",
              " 'around': 1097,\n",
              " 'because': 1310,\n",
              " 'need': 4786,\n",
              " 'an': 984,\n",
              " 'excuse': 2740,\n",
              " 'go': 3214,\n",
              " 'creep': 2100,\n",
              " 'on': 4998,\n",
              " 'people': 5206,\n",
              " 'sarasota': 5960,\n",
              " 'message': 4510,\n",
              " 'some': 6353,\n",
              " 'text': 6849,\n",
              " 'missing': 4571,\n",
              " 'sender': 6073,\n",
              " 'name': 4743,\n",
              " 'number': 4916,\n",
              " 'sent': 6082,\n",
              " 'date': 2204,\n",
              " 'lot': 4270,\n",
              " 'thats': 6874,\n",
              " 'everything': 2716,\n",
              " 'via': 7332,\n",
              " 'fullonsms': 3086,\n",
              " 'com': 1926,\n",
              " 'once': 5001,\n",
              " 'free': 3030,\n",
              " 'sir': 6245,\n",
              " 'yes': 7746,\n",
              " 'the': 6875,\n",
              " 'only': 5009,\n",
              " 'place': 5291,\n",
              " 'town': 7058,\n",
              " 'meet': 4478,\n",
              " 'exciting': 2739,\n",
              " 'adult': 861,\n",
              " 'singles': 6241,\n",
              " 'now': 4902,\n",
              " 'uk': 7180,\n",
              " 'txt': 7152,\n",
              " 'chat': 1769,\n",
              " '86688': 720,\n",
              " '150p': 318,\n",
              " 'msg': 4672,\n",
              " 'this': 6914,\n",
              " 'single': 6240,\n",
              " 'answers': 1015,\n",
              " 'we': 7470,\n",
              " 'fighting': 2872,\n",
              " 'plus': 5325,\n",
              " 'said': 5940,\n",
              " 'broke': 1546,\n",
              " 'and': 989,\n",
              " 'didnt': 2336,\n",
              " 'reply': 5776,\n",
              " 'uncle': 7193,\n",
              " 'abbey': 780,\n",
              " 'happy': 3378,\n",
              " 'new': 4816,\n",
              " 'year': 7736,\n",
              " 'abiola': 785,\n",
              " 'awesome': 1200,\n",
              " 'gonna': 3235,\n",
              " 'be': 1300,\n",
              " 'soon': 6377,\n",
              " 'tonight': 7024,\n",
              " 'yup': 7786,\n",
              " 'he': 3412,\n",
              " 'tat': 6780,\n",
              " 'yijue': 7754,\n",
              " 'then': 6886,\n",
              " 'tot': 7048,\n",
              " 'my': 4722,\n",
              " 'group': 3296,\n",
              " 'mate': 4434,\n",
              " 'cos': 2043,\n",
              " 'meeting': 4480,\n",
              " 'today': 6998,\n",
              " 'mah': 4370,\n",
              " 'askin': 1124,\n",
              " 'if': 3642,\n",
              " 'leaving': 4120,\n",
              " 'earlier': 2542,\n",
              " 'wat': 7449,\n",
              " 'mayb': 4453,\n",
              " 'haf': 3337,\n",
              " 'walk': 7415,\n",
              " 'far': 2820,\n",
              " 'bit': 1399,\n",
              " 'weird': 7502,\n",
              " 'even': 2701,\n",
              " 'where': 7538,\n",
              " 'do': 2408,\n",
              " 'supposed': 6691,\n",
              " 'happening': 3373,\n",
              " 'good': 3237,\n",
              " 'idea': 3631,\n",
              " 'sure': 6695,\n",
              " 'they': 6899,\n",
              " 'will': 7574,\n",
              " 'pub': 5544,\n",
              " 'ceri': 1735,\n",
              " 'rebel': 5682,\n",
              " 'sweet': 6719,\n",
              " 'dreamz': 2483,\n",
              " 'little': 4207,\n",
              " 'buddy': 1574,\n",
              " 'ya': 7721,\n",
              " '2moro': 417,\n",
              " 'needs': 4791,\n",
              " 'blokes': 1426,\n",
              " 'what': 7527,\n",
              " 'happen': 3370,\n",
              " 'dear': 2225,\n",
              " 'tell': 6816,\n",
              " 'of': 4954,\n",
              " 'pple': 5408,\n",
              " 'marry': 4422,\n",
              " 'with': 7601,\n",
              " 'their': 6879,\n",
              " 'lovers': 4290,\n",
              " 'becz': 1315,\n",
              " 'hav': 3400,\n",
              " 'gud': 3311,\n",
              " 'undrstndng': 7207,\n",
              " 'dat': 2202,\n",
              " 'avoids': 1193,\n",
              " 'problems': 5488,\n",
              " 'dis': 2372,\n",
              " 'wil': 7570,\n",
              " 'news': 4821,\n",
              " 'friday': 3046,\n",
              " 'person': 5225,\n",
              " 'like': 4167,\n",
              " 'tomorrow': 7018,\n",
              " 'best': 1357,\n",
              " 'day': 2212,\n",
              " 'your': 7767,\n",
              " 'life': 4157,\n",
              " 'dont': 2445,\n",
              " 'break': 1516,\n",
              " 'chain': 1741,\n",
              " 'suffer': 6644,\n",
              " 'send': 6072,\n",
              " 'frnds': 3060,\n",
              " 'mins': 4553,\n",
              " 'whn': 7549,\n",
              " 'read': 5658,\n",
              " 'as': 1113,\n",
              " 'per': 5207,\n",
              " 'request': 5783,\n",
              " 'maangalyam': 4344,\n",
              " 'alaipayuthe': 925,\n",
              " 'has': 3389,\n",
              " 'been': 1322,\n",
              " 'set': 6095,\n",
              " 'callertune': 1641,\n",
              " 'callers': 1640,\n",
              " 'press': 5453,\n",
              " 'copy': 2034,\n",
              " 'friends': 3051,\n",
              " 'did': 2333,\n",
              " 'see': 6044,\n",
              " 'posted': 5392,\n",
              " 'facebook': 2788,\n",
              " 'coming': 1936,\n",
              " 'funeral': 3093,\n",
              " 'home': 3518,\n",
              " 'reckon': 5701,\n",
              " 'eightish': 2591,\n",
              " 'carpark': 1694,\n",
              " 'mm': 4591,\n",
              " 'not': 4889,\n",
              " 'entirely': 2655,\n",
              " 'understood': 7205,\n",
              " 'hey': 3466,\n",
              " 'ho': 3503,\n",
              " 'which': 7544,\n",
              " 'weekend': 7494,\n",
              " 'office': 4964,\n",
              " 'whats': 7529,\n",
              " 'matter': 4444,\n",
              " 'camera': 1652,\n",
              " 'awarded': 1198,\n",
              " 'sipix': 6243,\n",
              " 'digital': 2349,\n",
              " '09061221066': 202,\n",
              " 'fromm': 3068,\n",
              " 'landline': 4059,\n",
              " 'delivery': 2270,\n",
              " 'within': 7604,\n",
              " '28': 393,\n",
              " 'days': 2213,\n",
              " 'oops': 5017,\n",
              " 'mum': 4697,\n",
              " 'somerset': 6358,\n",
              " 'tomo': 7016,\n",
              " 'macha': 4348,\n",
              " 'feel': 2844,\n",
              " 'upset': 7253,\n",
              " 'assume': 1136,\n",
              " 'mindset': 4543,\n",
              " 'believe': 1340,\n",
              " 'evening': 2702,\n",
              " 'have': 3403,\n",
              " 'wonderful': 7634,\n",
              " 'plans': 5301,\n",
              " 'both': 1473,\n",
              " 'us': 7271,\n",
              " 'let': 4142,\n",
              " 'begin': 1332,\n",
              " 'again': 889,\n",
              " 'anytime': 1033,\n",
              " 'come': 1930,\n",
              " 'pick': 5266,\n",
              " 'up': 7239,\n",
              " 'immediately': 3668,\n",
              " 'aft': 882,\n",
              " 'ur': 7256,\n",
              " 'lesson': 4140,\n",
              " 'spoke': 6458,\n",
              " 'john': 3890,\n",
              " 'strongly': 6590,\n",
              " 'feels': 2848,\n",
              " 'sacrifice': 5932,\n",
              " 'keep': 3961,\n",
              " 'here': 3457,\n",
              " 'going': 3226,\n",
              " 'does': 2418,\n",
              " 'beg': 1329,\n",
              " 'just': 3929,\n",
              " 'listen': 4199,\n",
              " 'make': 4381,\n",
              " 'promises': 5511,\n",
              " 'clear': 1858,\n",
              " 'things': 6904,\n",
              " 'easy': 2554,\n",
              " 'work': 7647,\n",
              " 'long': 4247,\n",
              " 'expecting': 2755,\n",
              " 'help': 3446,\n",
              " 'creativity': 2096,\n",
              " 'stifled': 6545,\n",
              " 'so': 6338,\n",
              " 'him': 3478,\n",
              " 'no': 4854,\n",
              " 'part': 5151,\n",
              " 'yo': 7757,\n",
              " 'chance': 1746,\n",
              " 'friend': 3050,\n",
              " 'mine': 4544,\n",
              " 'wanted': 7432,\n",
              " 'ask': 1121,\n",
              " 'about': 788,\n",
              " 'big': 1379,\n",
              " 'order': 5043,\n",
              " 'ah': 900,\n",
              " 'poor': 5368,\n",
              " 'baby': 1219,\n",
              " 'hope': 3533,\n",
              " 'urfeeling': 7259,\n",
              " 'bettersn': 1363,\n",
              " 'luv': 4320,\n",
              " 'probthat': 5493,\n",
              " 'overdose': 5091,\n",
              " 'careful': 1684,\n",
              " 'spk': 6450,\n",
              " 'sn': 6324,\n",
              " 'lots': 4272,\n",
              " 'lovejen': 4285,\n",
              " 'xxx': 7714,\n",
              " 'forget': 2991,\n",
              " 'many': 4404,\n",
              " 'requests': 5784,\n",
              " '1stchoice': 353,\n",
              " 'co': 1893,\n",
              " 'wish': 7594,\n",
              " 'more': 4643,\n",
              " 'information': 3721,\n",
              " '08707808226': 92,\n",
              " 'coffee': 1905,\n",
              " 'run': 5914,\n",
              " 'time': 6959,\n",
              " 'week': 7492,\n",
              " 'already': 952,\n",
              " 'she': 6136,\n",
              " 'told': 7007,\n",
              " 'hr': 3575,\n",
              " 'want': 7430,\n",
              " 'posting': 5393,\n",
              " 'chennai': 1791,\n",
              " 'working': 7651,\n",
              " 'saw': 5982,\n",
              " 'da': 2171,\n",
              " 'bus': 1595,\n",
              " 'otherwise': 5064,\n",
              " 'wan': 7426,\n",
              " 'there': 6892,\n",
              " 'doctor': 2414,\n",
              " 'crab': 2078,\n",
              " 'was': 7442,\n",
              " 'running': 5915,\n",
              " 'sea': 6025,\n",
              " 'shore': 6173,\n",
              " 'waves': 7464,\n",
              " 'came': 1651,\n",
              " 'cleared': 1859,\n",
              " 'footprints': 2982,\n",
              " 'asked': 1123,\n",
              " 'being': 1339,\n",
              " 'frnd': 3059,\n",
              " 'clearing': 1861,\n",
              " 'beautiful': 1307,\n",
              " 'replied': 5774,\n",
              " 'fox': 3017,\n",
              " 'following': 2967,\n",
              " 'catch': 1710,\n",
              " 'off': 4956,\n",
              " 'frndsship': 3063,\n",
              " 'never': 4812,\n",
              " 'lets': 4143,\n",
              " 'dwn': 2535,\n",
              " 'nyt': 4931,\n",
              " 'rite': 5857,\n",
              " 'put': 5568,\n",
              " '10': 268,\n",
              " 'evey': 2718,\n",
              " 'mnth': 4599,\n",
              " 'near': 4775,\n",
              " 'kalainar': 3940,\n",
              " 'tv': 7140,\n",
              " 'thenampet': 6887,\n",
              " 'how': 3564,\n",
              " 'page': 5113,\n",
              " 'gone': 3233,\n",
              " 'into': 3762,\n",
              " 'info': 3719,\n",
              " 'bt': 1567,\n",
              " 'after': 883,\n",
              " 'drug': 2503,\n",
              " 'able': 786,\n",
              " 'eat': 2555,\n",
              " 'problem': 5486,\n",
              " 'talk': 6764,\n",
              " 'called': 1638,\n",
              " 'left': 4123,\n",
              " 'kay': 3956,\n",
              " 'sat': 5966,\n",
              " 'right': 5841,\n",
              " 'lennon': 4135,\n",
              " 'natalja': 4762,\n",
              " '25': 384,\n",
              " 'inviting': 3772,\n",
              " 'her': 3456,\n",
              " '440': 516,\n",
              " 'www': 7697,\n",
              " 'sms': 6319,\n",
              " 'ac': 799,\n",
              " 'nat27081980': 4759,\n",
              " 'stop': 6559,\n",
              " '62468': 609,\n",
              " 'credits': 2099,\n",
              " 'topped': 7041,\n",
              " 'http': 3580,\n",
              " 'bubbletext': 1571,\n",
              " 'renewal': 5762,\n",
              " 'pin': 5280,\n",
              " 'tgxxrz': 6859,\n",
              " 'same': 5952,\n",
              " 'boat': 1443,\n",
              " 'still': 6547,\n",
              " 'moms': 4626,\n",
              " 'check': 1777,\n",
              " 'half': 3347,\n",
              " 'naked': 4740,\n",
              " 'catching': 1712,\n",
              " 'sleep': 6276,\n",
              " 'way': 7465,\n",
              " 'own': 5101,\n",
              " 'oga': 4972,\n",
              " 'phone': 5251,\n",
              " 'messages': 4512,\n",
              " 'great': 3284,\n",
              " 'tension': 6830,\n",
              " 'machi': 4350,\n",
              " 'show': 6188,\n",
              " 'colours': 1925,\n",
              " 'euro': 2693,\n",
              " '2004': 365,\n",
              " 'offer': 4960,\n",
              " 'england': 2639,\n",
              " 'flag': 2925,\n",
              " '3lions': 485,\n",
              " 'tone': 7020,\n",
              " 'click': 1864,\n",
              " 'service': 6093,\n",
              " 'why': 7558,\n",
              " 'didn': 2335,\n",
              " 'lunch': 4315,\n",
              " 'dun': 2523,\n",
              " 'drive': 2492,\n",
              " 'sch': 5995,\n",
              " 'howz': 3571,\n",
              " 'persons': 5230,\n",
              " 'story': 6572,\n",
              " 'sleeping': 6278,\n",
              " 'nt': 4907,\n",
              " 'feeling': 2846,\n",
              " 'well': 7509,\n",
              " 'done': 2443,\n",
              " 'handed': 3355,\n",
              " 'don': 2441,\n",
              " 'mega': 4483,\n",
              " 'shop': 6169,\n",
              " 'asda': 1116,\n",
              " 'counts': 2060,\n",
              " 'celebration': 1728,\n",
              " 'doing': 2431,\n",
              " 'mean': 4463,\n",
              " 'intrude': 3765,\n",
              " 'much': 4690,\n",
              " 'tuition': 7128,\n",
              " 'paid': 5116,\n",
              " 'last': 4077,\n",
              " 'semester': 6068,\n",
              " 'thanks': 6864,\n",
              " 'mahal': 4371,\n",
              " 'decimal': 2237,\n",
              " 'lor': 4262,\n",
              " 'nah': 4737,\n",
              " 'man': 4390,\n",
              " 'car': 1675,\n",
              " 'meant': 4467,\n",
              " 'crammed': 2081,\n",
              " 'full': 3085,\n",
              " 'hmm': 3496,\n",
              " 'bad': 1227,\n",
              " 'hype': 3612,\n",
              " 'park': 5147,\n",
              " 'plaza': 5311,\n",
              " '700': 642,\n",
              " 'studio': 6603,\n",
              " 'taken': 6759,\n",
              " 'bedrm': 1319,\n",
              " '900': 752,\n",
              " 'pass': 5161,\n",
              " '69669': 621,\n",
              " 'collect': 1916,\n",
              " 'polyphonic': 5361,\n",
              " 'ringtones': 5851,\n",
              " 'normal': 4881,\n",
              " 'gprs': 3263,\n",
              " 'charges': 1760,\n",
              " 'apply': 1049,\n",
              " 'enjoy': 2641,\n",
              " 'tones': 7021,\n",
              " 'bloo': 1428,\n",
              " 'miss': 4567,\n",
              " 'first': 2912,\n",
              " 'bowl': 1481,\n",
              " 'package': 5110,\n",
              " 'programs': 5502,\n",
              " 'sitting': 6252,\n",
              " 'mu': 4688,\n",
              " 'waiting': 7411,\n",
              " 'everyone': 2712,\n",
              " 'suite': 6654,\n",
              " 'take': 6757,\n",
              " 'shower': 6190,\n",
              " 'wife': 7566,\n",
              " 'knew': 4010,\n",
              " 'murder': 4705,\n",
              " 'exactly': 2732,\n",
              " 'yun': 7782,\n",
              " 'buying': 1610,\n",
              " 'school': 5997,\n",
              " 'got': 3253,\n",
              " '2000': 363,\n",
              " 'yeah': 7735,\n",
              " 'leave': 4118,\n",
              " 'min': 4538,\n",
              " 'secret': 6034,\n",
              " 'admirer': 851,\n",
              " 'looking': 4255,\n",
              " 'contact': 2003,\n",
              " 'find': 2893,\n",
              " 'reveal': 5825,\n",
              " 'thinks': 6909,\n",
              " 'special': 6420,\n",
              " '09058094565': 188,\n",
              " 'tog': 7001,\n",
              " 'er': 2668,\n",
              " '15': 315,\n",
              " '26': 389,\n",
              " 'cafe': 1623,\n",
              " 'sit': 6248,\n",
              " 'wen': 7512,\n",
              " 'list': 4197,\n",
              " 'buyers': 1609,\n",
              " 'those': 6922,\n",
              " 'cookies': 2025,\n",
              " 'jelly': 3860,\n",
              " 'them': 6882,\n",
              " 'stand': 6500,\n",
              " 'close': 1871,\n",
              " 'tho': 6921,\n",
              " 'something': 6361,\n",
              " 'guys': 3324,\n",
              " 'movies': 4664,\n",
              " 'side': 6212,\n",
              " 'except': 2736,\n",
              " 'saturday': 5974,\n",
              " 'sunday': 6669,\n",
              " 'promise': 5509,\n",
              " 'treat': 7086,\n",
              " 'bet': 1359,\n",
              " 'care': 1679,\n",
              " 've': 7316,\n",
              " 'barred': 1261,\n",
              " 'stores': 6569,\n",
              " 'twat': 7141,\n",
              " 'orange': 5040,\n",
              " 'dungerees': 2524,\n",
              " 'decking': 2241,\n",
              " 'punch': 5552,\n",
              " 'had': 3335,\n",
              " 'mobile': 4604,\n",
              " '11': 283,\n",
              " 'months': 4639,\n",
              " 'entitled': 2656,\n",
              " 'update': 7244,\n",
              " 'latest': 4084,\n",
              " 'colour': 1923,\n",
              " 'mobiles': 4605,\n",
              " '08002986030': 57,\n",
              " 'fine': 2896,\n",
              " 'seventeen': 6101,\n",
              " 'pounds': 5401,\n",
              " 'seven': 6100,\n",
              " 'hundred': 3593,\n",
              " 'ml': 4590,\n",
              " 'coz': 2072,\n",
              " 'before': 1327,\n",
              " 'karaoke': 3950,\n",
              " 'type': 7166,\n",
              " 'activities': 834,\n",
              " 'planned': 5299,\n",
              " 'debating': 2230,\n",
              " 'whether': 7543,\n",
              " 'play': 5304,\n",
              " 'football': 2979,\n",
              " 'eve': 2699,\n",
              " 'lazy': 4099,\n",
              " 'though': 6925,\n",
              " 'wait': 7408,\n",
              " 'inside': 3736,\n",
              " 'very': 7330,\n",
              " 'rude': 5905,\n",
              " 'campus': 1653,\n",
              " 'flirting': 2940,\n",
              " 'paperwork': 5134,\n",
              " 'texted': 6854,\n",
              " 'nervous': 4804,\n",
              " 'course': 2065,\n",
              " 'may': 4452,\n",
              " 'address': 846,\n",
              " 'should': 6182,\n",
              " 'his': 3484,\n",
              " 'boss': 1470,\n",
              " 'knowing': 4015,\n",
              " 'fired': 2907,\n",
              " 'urgent': 7260,\n",
              " 'costa': 2046,\n",
              " 'del': 2261,\n",
              " 'sol': 6347,\n",
              " 'holiday': 3513,\n",
              " '5000': 565,\n",
              " 'await': 1194,\n",
              " 'collection': 1919,\n",
              " '09050090044': 179,\n",
              " 'toclaim': 6997,\n",
              " 'sae': 5934,\n",
              " 'tc': 6791,\n",
              " 'pobox334': 5336,\n",
              " 'stockport': 6551,\n",
              " 'sk38xh': 6259,\n",
              " 'cost': 2045,\n",
              " '50': 563,\n",
              " 'pm': 5328,\n",
              " 'max10mins': 4450,\n",
              " 'recpt': 5709,\n",
              " 'ordered': 5044,\n",
              " 'ringtone': 5849,\n",
              " 'processed': 5495,\n",
              " 'quite': 5593,\n",
              " 'haven': 3405,\n",
              " 'finish': 2899,\n",
              " 'film': 2884,\n",
              " 'yet': 7749,\n",
              " 'voucher': 7381,\n",
              " 'holder': 3510,\n",
              " 'claim': 1843,\n",
              " 'weeks': 7497,\n",
              " 'pc': 5191,\n",
              " 'wtlp': 7691,\n",
              " 'ts': 7117,\n",
              " 'cs': 2123,\n",
              " 'meds': 4476,\n",
              " 'say': 5983,\n",
              " 'every': 2708,\n",
              " 'hours': 3559,\n",
              " 'pain': 5117,\n",
              " 'took': 7030,\n",
              " 'another': 1008,\n",
              " 'die': 2338,\n",
              " 'initiate': 3726,\n",
              " 'understand': 7203,\n",
              " 'yeh': 7739,\n",
              " 'def': 2250,\n",
              " 'up4': 7240,\n",
              " 'payed2day': 5185,\n",
              " 'havbeen': 3402,\n",
              " 'given': 3197,\n",
              " 'rise': 5854,\n",
              " '4my': 550,\n",
              " 'havebeen': 3404,\n",
              " 'made': 4358,\n",
              " 'preschoolco': 5444,\n",
              " 'ordinator': 5045,\n",
              " '2i': 413,\n",
              " 'feelingood': 2847,\n",
              " 'fun': 3088,\n",
              " 'until': 7237,\n",
              " 'truly': 7109,\n",
              " 'won': 7631,\n",
              " 'gbp': 3143,\n",
              " 'alex': 932,\n",
              " 'knows': 4017,\n",
              " 'sells': 6066,\n",
              " 'mids': 4526,\n",
              " 'down': 2466,\n",
              " 'south': 6402,\n",
              " 'tampa': 6771,\n",
              " 'think': 6905,\n",
              " 'could': 2053,\n",
              " 'kothi': 4028,\n",
              " 'print': 5473,\n",
              " 'marandratha': 4408,\n",
              " 'diff': 2341,\n",
              " 'guess': 3314,\n",
              " 'luck': 4309,\n",
              " 'catches': 1711,\n",
              " 'quit': 5592,\n",
              " 'xuhui': 7710,\n",
              " 'till': 6958,\n",
              " 'end': 2625,\n",
              " 'month': 4637,\n",
              " 'try': 7114,\n",
              " 'figure': 2875,\n",
              " 'money': 4630,\n",
              " 'gas': 3132,\n",
              " 'alcohol': 927,\n",
              " 'jay': 3849,\n",
              " 'trying': 7116,\n",
              " 'our': 5068,\n",
              " 'weed': 7491,\n",
              " 'budget': 1575,\n",
              " 'jamster': 3836,\n",
              " 'crazy': 2090,\n",
              " 'frog': 3066,\n",
              " 'sound': 6396,\n",
              " 'poly': 5357,\n",
              " 'mad1': 4355,\n",
              " 'real': 5663,\n",
              " 'mad2': 4356,\n",
              " '88888': 738,\n",
              " 'sounds': 6398,\n",
              " '16': 330,\n",
              " 'staff': 6492,\n",
              " 'taking': 6762,\n",
              " 'class': 1852,\n",
              " 'snow': 6334,\n",
              " 'than': 6861,\n",
              " 'flurries': 2952,\n",
              " 'usually': 7287,\n",
              " 'melt': 4491,\n",
              " 'hit': 3486,\n",
              " 'ground': 3295,\n",
              " 'eek': 2576,\n",
              " 'since': 6234,\n",
              " 'born': 1468,\n",
              " 'birthday': 1397,\n",
              " 'feb': 2840,\n",
              " 'decide': 2235,\n",
              " 'wot': 7664,\n",
              " 'bday': 1299,\n",
              " 'prob': 5484,\n",
              " 'jus': 3928,\n",
              " 'frm': 3057,\n",
              " 'virgin': 7356,\n",
              " 'sumfing': 6662,\n",
              " 'give': 3196,\n",
              " 'babe': 1216,\n",
              " 'bed': 1316,\n",
              " 'love': 4283,\n",
              " 'kisses': 4002,\n",
              " 'macho': 4351,\n",
              " 'price': 5465,\n",
              " 'range': 5631,\n",
              " 'interfued': 3755,\n",
              " 'blackberry': 1406,\n",
              " 'bold': 1448,\n",
              " 'bb': 1284,\n",
              " 'taka': 6756,\n",
              " 'look': 4251,\n",
              " 'mode': 4614,\n",
              " '2marrow': 416,\n",
              " 'dinner': 2361,\n",
              " 'maths': 4440,\n",
              " 'chapter': 1755,\n",
              " 'mag': 4363,\n",
              " 'avo': 1190,\n",
              " 'point': 5348,\n",
              " 'sexy': 6107,\n",
              " 'fall': 2803,\n",
              " 'worlds': 7655,\n",
              " 'most': 4651,\n",
              " 'discreet': 2383,\n",
              " 'dating': 2207,\n",
              " 'vip': 7354,\n",
              " '83110': 695,\n",
              " 'under': 7202,\n",
              " 'weather': 7478,\n",
              " 'kind': 3995,\n",
              " 'coccooning': 1899,\n",
              " 'making': 4385,\n",
              " 'yrs': 7778,\n",
              " 'joy': 3908,\n",
              " 'father': 2828,\n",
              " 'mandan': 4397,\n",
              " 'ten': 6826,\n",
              " 'bucks': 1572,\n",
              " 'noncomittal': 4869,\n",
              " 'solve': 6351,\n",
              " 'case': 1700,\n",
              " 'found': 3012,\n",
              " 'murdered': 4706,\n",
              " 'afternoon': 885,\n",
              " 'police': 5354,\n",
              " 'questioned': 5587,\n",
              " 'cook': 2024,\n",
              " 'cooking': 2026,\n",
              " 'gardener': 3129,\n",
              " 'picking': 5268,\n",
              " 'vegetables': 7318,\n",
              " 'house': 3560,\n",
              " 'maid': 4373,\n",
              " 'went': 7514,\n",
              " 'post': 5389,\n",
              " 'children': 1811,\n",
              " 'neighbour': 4800,\n",
              " 'marriage': 4420,\n",
              " 'arrested': 1102,\n",
              " 'murderer': 4707,\n",
              " 'reason': 5677,\n",
              " 'brilliant': 1533,\n",
              " 'makes': 4382,\n",
              " 'dearer': 2227,\n",
              " 'de': 2219,\n",
              " 'happiness': 3377,\n",
              " 'dem': 2272,\n",
              " 'havent': 3406,\n",
              " 'over': 5088,\n",
              " 'carlos': 1690,\n",
              " 'theatre': 6877,\n",
              " 'wherever': 7540,\n",
              " 'bring': 1535,\n",
              " 'inner': 3729,\n",
              " 'tigress': 6955,\n",
              " 'printed': 5474,\n",
              " 'upstairs': 7254,\n",
              " 'ugh': 7174,\n",
              " 'leg': 4125,\n",
              " 'hurts': 3603,\n",
              " 'musta': 4715,\n",
              " 'overdid': 5090,\n",
              " 'mon': 4627,\n",
              " 'infact': 3715,\n",
              " 'seeing': 6046,\n",
              " 'thanks2': 6865,\n",
              " 'study': 6604,\n",
              " 'smoking': 6317,\n",
              " 'while': 7545,\n",
              " 'use': 7275,\n",
              " 'wylie': 7698,\n",
              " 'smokes': 6315,\n",
              " 'justify': 3931,\n",
              " 'ruining': 5908,\n",
              " 'shit': 6159,\n",
              " 'cthen': 2129,\n",
              " 'thk': 6915,\n",
              " 'shd': 6135,\n",
              " 'enuff': 2661,\n",
              " 'conclusion': 1974,\n",
              " 'contents': 2010,\n",
              " 'pg': 5240,\n",
              " 'references': 5718,\n",
              " 'cover': 2069,\n",
              " 'tessy': 6842,\n",
              " 'favor': 2834,\n",
              " 'convey': 2019,\n",
              " 'wishes': 7595,\n",
              " 'nimya': 4842,\n",
              " 'dnt': 2407,\n",
              " 'shijas': 6148,\n",
              " 'theory': 6889,\n",
              " 'argument': 1087,\n",
              " 'wins': 7589,\n",
              " 'situation': 6253,\n",
              " 'loses': 4266,\n",
              " 'argue': 1085,\n",
              " 'kick': 3982,\n",
              " 'amp': 978,\n",
              " 'always': 960,\n",
              " 'correct': 2039,\n",
              " 'whore': 7554,\n",
              " 'unbelievable': 7190,\n",
              " 'borrow': 1469,\n",
              " 'bag': 1230,\n",
              " 'god': 3219,\n",
              " 'picked': 5267,\n",
              " 'flower': 2947,\n",
              " 'dippeditinadew': 2365,\n",
              " 'lovingly': 4294,\n",
              " 'touched': 7053,\n",
              " 'itwhichturnedinto': 3815,\n",
              " 'gifted': 3183,\n",
              " 'tomeandsaid': 7015,\n",
              " '4u': 556,\n",
              " 'watever': 7456,\n",
              " 'relation': 5736,\n",
              " 'built': 1582,\n",
              " 'world': 7654,\n",
              " 'thing': 6903,\n",
              " 'remains': 5748,\n",
              " 'atlast': 1150,\n",
              " 'iz': 3821,\n",
              " 'lonlines': 4249,\n",
              " 'lotz': 4276,\n",
              " 'memories': 4496,\n",
              " 'ex': 2730,\n",
              " 'kids': 3988,\n",
              " 'rem': 5746,\n",
              " 'correctly': 2040,\n",
              " 'reasons': 5679,\n",
              " 'nobody': 4857,\n",
              " 'sarcastic': 5962,\n",
              " 'faggy': 2795,\n",
              " 'getting': 3176,\n",
              " 'worried': 7656,\n",
              " 'derek': 2292,\n",
              " 'taylor': 6788,\n",
              " 'assumed': 1137,\n",
              " 'worst': 7661,\n",
              " 'thank': 6863,\n",
              " 'velusamy': 7323,\n",
              " 'birth': 1395,\n",
              " 'company': 1947,\n",
              " 'bank': 1248,\n",
              " 'facilities': 2789,\n",
              " 'details': 2307,\n",
              " 'really': 5672,\n",
              " 'horny': 3542,\n",
              " 'hot': 3552,\n",
              " '69698': 623,\n",
              " 'charged': 1759,\n",
              " '150pm': 320,\n",
              " 'unsubscribe': 7235,\n",
              " 'private': 5479,\n",
              " '2003': 364,\n",
              " 'account': 815,\n",
              " 'statement': 6517,\n",
              " '07973788240': 46,\n",
              " 'shows': 6194,\n",
              " '800': 668,\n",
              " 'un': 7188,\n",
              " 'redeemed': 5714,\n",
              " 'points': 5349,\n",
              " '08715203649': 127,\n",
              " 'identifier': 3635,\n",
              " 'code': 1904,\n",
              " '40533': 504,\n",
              " 'expires': 2763,\n",
              " '31': 457,\n",
              " '04': 16,\n",
              " 'buy': 1607,\n",
              " 'stay': 6521,\n",
              " 'hour': 3557,\n",
              " 'eye': 2780,\n",
              " 'sore': 6383,\n",
              " 'holy': 3517,\n",
              " 'living': 4212,\n",
              " 'christ': 1829,\n",
              " 'okors': 4986,\n",
              " 'cherish': 1793,\n",
              " 'each': 2539,\n",
              " 'mojibiola': 4620,\n",
              " 'priest': 5468,\n",
              " 'lifted': 4163,\n",
              " 'hopes': 3537,\n",
              " 'especially': 2685,\n",
              " 'approaches': 1056,\n",
              " 'studying': 6605,\n",
              " 'anyways': 1035,\n",
              " 'gr8': 3264,\n",
              " 'soooo': 6380,\n",
              " 'hear': 3423,\n",
              " 'omg': 4996,\n",
              " 'missed': 4569,\n",
              " 'having': 3408,\n",
              " 'provider': 5529,\n",
              " 'tming': 6983,\n",
              " 'job': 3883,\n",
              " 'na': 4733,\n",
              " 'recently': 5695,\n",
              " 'haha': 3338,\n",
              " 'tyler': 7165,\n",
              " 'literally': 4205,\n",
              " 'dubsack': 2513,\n",
              " 'suffers': 6646,\n",
              " 'violence': 7352,\n",
              " 'silence': 6223,\n",
              " 'night': 4835,\n",
              " 'thts': 6941,\n",
              " 'wright': 7674,\n",
              " 'brother': 1552,\n",
              " 'fly': 2954,\n",
              " ...}"
            ]
          },
          "metadata": {},
          "execution_count": 72
        }
      ]
    },
    {
      "cell_type": "code",
      "source": [
        "np.where(x_train_np[0]!=0)"
      ],
      "metadata": {
        "colab": {
          "base_uri": "https://localhost:8080/"
        },
        "id": "izMAkG-Fg_hX",
        "outputId": "f9193be6-f840-4790-da01-571253b8997b"
      },
      "execution_count": null,
      "outputs": [
        {
          "output_type": "execute_result",
          "data": {
            "text/plain": [
              "(array([1224, 1618, 1655, 2436, 2841, 3067, 3170, 3305, 3469, 4215, 4221,\n",
              "        4305, 4523, 5181, 5313, 5320, 7762]),)"
            ]
          },
          "metadata": {},
          "execution_count": 84
        }
      ]
    },
    {
      "cell_type": "code",
      "source": [
        "v.get_feature_names_out()[1655]"
      ],
      "metadata": {
        "colab": {
          "base_uri": "https://localhost:8080/",
          "height": 36
        },
        "id": "3sQH_XW4i4em",
        "outputId": "60933f14-acff-41d6-b921-30800f1f42f3"
      },
      "execution_count": null,
      "outputs": [
        {
          "output_type": "execute_result",
          "data": {
            "text/plain": [
              "'can'"
            ],
            "application/vnd.google.colaboratory.intrinsic+json": {
              "type": "string"
            }
          },
          "metadata": {},
          "execution_count": 96
        }
      ]
    },
    {
      "cell_type": "code",
      "source": [
        "X_train[2649]"
      ],
      "metadata": {
        "colab": {
          "base_uri": "https://localhost:8080/",
          "height": 53
        },
        "id": "379DXYXlhoYy",
        "outputId": "67fe344d-3579-412e-fcc2-09decc3e1121"
      },
      "execution_count": null,
      "outputs": [
        {
          "output_type": "execute_result",
          "data": {
            "text/plain": [
              "'Hi, can i please get a  &lt;#&gt;  dollar loan from you. I.ll pay you back by mid february. Pls.'"
            ],
            "application/vnd.google.colaboratory.intrinsic+json": {
              "type": "string"
            }
          },
          "metadata": {},
          "execution_count": 94
        }
      ]
    },
    {
      "cell_type": "code",
      "source": [
        "from sklearn.naive_bayes import MultinomialNB\n",
        "\n",
        "model = MultinomialNB()\n",
        "model.fit(x_train_cv, y_train)"
      ],
      "metadata": {
        "colab": {
          "base_uri": "https://localhost:8080/",
          "height": 74
        },
        "id": "K0Ze79NIie2O",
        "outputId": "bc184d93-e4cd-4865-e5d9-6b47a0ff9a5d"
      },
      "execution_count": null,
      "outputs": [
        {
          "output_type": "execute_result",
          "data": {
            "text/plain": [
              "MultinomialNB()"
            ],
            "text/html": [
              "<style>#sk-container-id-1 {color: black;background-color: white;}#sk-container-id-1 pre{padding: 0;}#sk-container-id-1 div.sk-toggleable {background-color: white;}#sk-container-id-1 label.sk-toggleable__label {cursor: pointer;display: block;width: 100%;margin-bottom: 0;padding: 0.3em;box-sizing: border-box;text-align: center;}#sk-container-id-1 label.sk-toggleable__label-arrow:before {content: \"▸\";float: left;margin-right: 0.25em;color: #696969;}#sk-container-id-1 label.sk-toggleable__label-arrow:hover:before {color: black;}#sk-container-id-1 div.sk-estimator:hover label.sk-toggleable__label-arrow:before {color: black;}#sk-container-id-1 div.sk-toggleable__content {max-height: 0;max-width: 0;overflow: hidden;text-align: left;background-color: #f0f8ff;}#sk-container-id-1 div.sk-toggleable__content pre {margin: 0.2em;color: black;border-radius: 0.25em;background-color: #f0f8ff;}#sk-container-id-1 input.sk-toggleable__control:checked~div.sk-toggleable__content {max-height: 200px;max-width: 100%;overflow: auto;}#sk-container-id-1 input.sk-toggleable__control:checked~label.sk-toggleable__label-arrow:before {content: \"▾\";}#sk-container-id-1 div.sk-estimator input.sk-toggleable__control:checked~label.sk-toggleable__label {background-color: #d4ebff;}#sk-container-id-1 div.sk-label input.sk-toggleable__control:checked~label.sk-toggleable__label {background-color: #d4ebff;}#sk-container-id-1 input.sk-hidden--visually {border: 0;clip: rect(1px 1px 1px 1px);clip: rect(1px, 1px, 1px, 1px);height: 1px;margin: -1px;overflow: hidden;padding: 0;position: absolute;width: 1px;}#sk-container-id-1 div.sk-estimator {font-family: monospace;background-color: #f0f8ff;border: 1px dotted black;border-radius: 0.25em;box-sizing: border-box;margin-bottom: 0.5em;}#sk-container-id-1 div.sk-estimator:hover {background-color: #d4ebff;}#sk-container-id-1 div.sk-parallel-item::after {content: \"\";width: 100%;border-bottom: 1px solid gray;flex-grow: 1;}#sk-container-id-1 div.sk-label:hover label.sk-toggleable__label {background-color: #d4ebff;}#sk-container-id-1 div.sk-serial::before {content: \"\";position: absolute;border-left: 1px solid gray;box-sizing: border-box;top: 0;bottom: 0;left: 50%;z-index: 0;}#sk-container-id-1 div.sk-serial {display: flex;flex-direction: column;align-items: center;background-color: white;padding-right: 0.2em;padding-left: 0.2em;position: relative;}#sk-container-id-1 div.sk-item {position: relative;z-index: 1;}#sk-container-id-1 div.sk-parallel {display: flex;align-items: stretch;justify-content: center;background-color: white;position: relative;}#sk-container-id-1 div.sk-item::before, #sk-container-id-1 div.sk-parallel-item::before {content: \"\";position: absolute;border-left: 1px solid gray;box-sizing: border-box;top: 0;bottom: 0;left: 50%;z-index: -1;}#sk-container-id-1 div.sk-parallel-item {display: flex;flex-direction: column;z-index: 1;position: relative;background-color: white;}#sk-container-id-1 div.sk-parallel-item:first-child::after {align-self: flex-end;width: 50%;}#sk-container-id-1 div.sk-parallel-item:last-child::after {align-self: flex-start;width: 50%;}#sk-container-id-1 div.sk-parallel-item:only-child::after {width: 0;}#sk-container-id-1 div.sk-dashed-wrapped {border: 1px dashed gray;margin: 0 0.4em 0.5em 0.4em;box-sizing: border-box;padding-bottom: 0.4em;background-color: white;}#sk-container-id-1 div.sk-label label {font-family: monospace;font-weight: bold;display: inline-block;line-height: 1.2em;}#sk-container-id-1 div.sk-label-container {text-align: center;}#sk-container-id-1 div.sk-container {/* jupyter's `normalize.less` sets `[hidden] { display: none; }` but bootstrap.min.css set `[hidden] { display: none !important; }` so we also need the `!important` here to be able to override the default hidden behavior on the sphinx rendered scikit-learn.org. See: https://github.com/scikit-learn/scikit-learn/issues/21755 */display: inline-block !important;position: relative;}#sk-container-id-1 div.sk-text-repr-fallback {display: none;}</style><div id=\"sk-container-id-1\" class=\"sk-top-container\"><div class=\"sk-text-repr-fallback\"><pre>MultinomialNB()</pre><b>In a Jupyter environment, please rerun this cell to show the HTML representation or trust the notebook. <br />On GitHub, the HTML representation is unable to render, please try loading this page with nbviewer.org.</b></div><div class=\"sk-container\" hidden><div class=\"sk-item\"><div class=\"sk-estimator sk-toggleable\"><input class=\"sk-toggleable__control sk-hidden--visually\" id=\"sk-estimator-id-1\" type=\"checkbox\" checked><label for=\"sk-estimator-id-1\" class=\"sk-toggleable__label sk-toggleable__label-arrow\">MultinomialNB</label><div class=\"sk-toggleable__content\"><pre>MultinomialNB()</pre></div></div></div></div></div>"
            ]
          },
          "metadata": {},
          "execution_count": 99
        }
      ]
    },
    {
      "cell_type": "code",
      "source": [
        "x_test_cv = v.transform(X_test)\n",
        "\n",
        "model.predict(x_test_cv)"
      ],
      "metadata": {
        "colab": {
          "base_uri": "https://localhost:8080/"
        },
        "id": "NaggdY_IkYTI",
        "outputId": "4e6de661-104c-4e88-e51e-f510f812b2b1"
      },
      "execution_count": null,
      "outputs": [
        {
          "output_type": "execute_result",
          "data": {
            "text/plain": [
              "array([0, 0, 1, ..., 0, 0, 0])"
            ]
          },
          "metadata": {},
          "execution_count": 102
        }
      ]
    },
    {
      "cell_type": "code",
      "source": [
        "from sklearn.metrics import accuracy_score, classification_report\n",
        "\n",
        "accuracy_score(y_test, model.predict(x_test_cv))"
      ],
      "metadata": {
        "colab": {
          "base_uri": "https://localhost:8080/"
        },
        "id": "jz3N6-2EkvNQ",
        "outputId": "b5b72f58-c213-407f-e805-1679dd35c825"
      },
      "execution_count": null,
      "outputs": [
        {
          "output_type": "execute_result",
          "data": {
            "text/plain": [
              "0.9865470852017937"
            ]
          },
          "metadata": {},
          "execution_count": 104
        }
      ]
    },
    {
      "cell_type": "code",
      "source": [
        "print(classification_report(y_test, model.predict(x_test_cv)))"
      ],
      "metadata": {
        "colab": {
          "base_uri": "https://localhost:8080/"
        },
        "id": "WrRdPOZAlGud",
        "outputId": "dae9e61d-fa8c-464e-9ca9-000c8b801bda"
      },
      "execution_count": null,
      "outputs": [
        {
          "output_type": "stream",
          "name": "stdout",
          "text": [
            "              precision    recall  f1-score   support\n",
            "\n",
            "           0       0.99      0.99      0.99       976\n",
            "           1       0.96      0.94      0.95       139\n",
            "\n",
            "    accuracy                           0.99      1115\n",
            "   macro avg       0.97      0.96      0.97      1115\n",
            "weighted avg       0.99      0.99      0.99      1115\n",
            "\n"
          ]
        }
      ]
    },
    {
      "cell_type": "code",
      "source": [
        "from sklearn.pipeline import Pipeline\n",
        "\n",
        "pipe = Pipeline([\n",
        "    ('vectorizer', CountVectorizer()),\n",
        "    ('nb', MultinomialNB())\n",
        "])"
      ],
      "metadata": {
        "id": "I_I6E6YGlOkM"
      },
      "execution_count": null,
      "outputs": []
    },
    {
      "cell_type": "code",
      "source": [
        "pipe.fit(X_train, y_train)\n",
        "print(classification_report(y_test, pipe.predict(X_test)))"
      ],
      "metadata": {
        "colab": {
          "base_uri": "https://localhost:8080/"
        },
        "id": "EwPxMLKZoOL4",
        "outputId": "86298a8d-ac79-4aef-b547-8958ab16b15a"
      },
      "execution_count": null,
      "outputs": [
        {
          "output_type": "stream",
          "name": "stdout",
          "text": [
            "              precision    recall  f1-score   support\n",
            "\n",
            "           0       0.99      0.99      0.99       976\n",
            "           1       0.96      0.94      0.95       139\n",
            "\n",
            "    accuracy                           0.99      1115\n",
            "   macro avg       0.97      0.96      0.97      1115\n",
            "weighted avg       0.99      0.99      0.99      1115\n",
            "\n"
          ]
        }
      ]
    },
    {
      "cell_type": "markdown",
      "source": [
        "## Stop Words"
      ],
      "metadata": {
        "id": "pr5BKrhbAoj5"
      }
    },
    {
      "cell_type": "code",
      "source": [
        "import spacy\n",
        "from spacy.lang.en.stop_words import STOP_WORDS\n",
        "len(STOP_WORDS)"
      ],
      "metadata": {
        "id": "ChJz-Zatont2",
        "colab": {
          "base_uri": "https://localhost:8080/"
        },
        "outputId": "426b3e9d-8dcc-46cd-9e48-6e8bf351aaac"
      },
      "execution_count": 3,
      "outputs": [
        {
          "output_type": "execute_result",
          "data": {
            "text/plain": [
              "326"
            ]
          },
          "metadata": {},
          "execution_count": 3
        }
      ]
    },
    {
      "cell_type": "code",
      "source": [
        "from tkinter.constants import S\n",
        "nlp = spacy.load(\"en_core_web_sm\")\n",
        "doc = nlp(\"We just opened our wings, the flying part is coming soon\")\n",
        "\n",
        "stop=[]\n",
        "no_stop= []\n",
        "for token in doc:\n",
        "  if token.is_stop:\n",
        "    stop.append(token.text)\n",
        "  else:\n",
        "    no_stop.append(token.text)\n",
        "print(stop)\n",
        "print(no_stop)"
      ],
      "metadata": {
        "colab": {
          "base_uri": "https://localhost:8080/"
        },
        "id": "1PiKuJsdAsoI",
        "outputId": "86a41cd1-9399-46f8-8c37-8e406f203593"
      },
      "execution_count": 8,
      "outputs": [
        {
          "output_type": "stream",
          "name": "stdout",
          "text": [
            "['We', 'just', 'our', 'the', 'part', 'is']\n",
            "['opened', 'wings', ',', 'flying', 'coming', 'soon']\n"
          ]
        }
      ]
    },
    {
      "cell_type": "code",
      "source": [
        "def preprocess(text):\n",
        "  doc=nlp(text)\n",
        "  no_stop_words= [token.text for token in doc if not token.is_stop and not token.is_punct]\n",
        "  return \" \".join(no_stop_words)"
      ],
      "metadata": {
        "id": "4UWsNPdmF_M_"
      },
      "execution_count": 24,
      "outputs": []
    },
    {
      "cell_type": "code",
      "source": [
        "import pandas as pd"
      ],
      "metadata": {
        "id": "htNUdztKBX2V"
      },
      "execution_count": 9,
      "outputs": []
    },
    {
      "cell_type": "code",
      "source": [
        "df= pd.read_json('https://raw.githubusercontent.com/codebasics/nlp-tutorials/main/10_stop_words/doj_press.json', lines=True)\n",
        "df.head()"
      ],
      "metadata": {
        "colab": {
          "base_uri": "https://localhost:8080/",
          "height": 293
        },
        "id": "sodm18wJCpAz",
        "outputId": "7b6831c2-0ccb-4653-edc2-cd5a3810cdfd"
      },
      "execution_count": 15,
      "outputs": [
        {
          "output_type": "execute_result",
          "data": {
            "text/plain": [
              "        id                                              title  \\\n",
              "0     None       Convicted Bomb Plotter Sentenced to 30 Years   \n",
              "1  12-919   $1 Million in Restitution Payments Announced t...   \n",
              "2  11-1002  $1 Million Settlement Reached for Natural Reso...   \n",
              "3   10-015  10 Las Vegas Men Indicted \\r\\nfor Falsifying V...   \n",
              "4   18-898  $100 Million Settlement Will Speed Cleanup Wor...   \n",
              "\n",
              "                                            contents  \\\n",
              "0  PORTLAND, Oregon. – Mohamed Osman Mohamud, 23,...   \n",
              "1    WASHINGTON – North Carolina’s Waccamaw River...   \n",
              "2        BOSTON– A $1-million settlement has been...   \n",
              "3    WASHINGTON—A federal grand jury in Las Vegas...   \n",
              "4  The U.S. Department of Justice, the U.S. Envir...   \n",
              "\n",
              "                        date         topics  \\\n",
              "0  2014-10-01T00:00:00-04:00             []   \n",
              "1  2012-07-25T00:00:00-04:00             []   \n",
              "2  2011-08-03T00:00:00-04:00             []   \n",
              "3  2010-01-08T00:00:00-05:00             []   \n",
              "4  2018-07-09T00:00:00-04:00  [Environment]   \n",
              "\n",
              "                                     components  \n",
              "0            [National Security Division (NSD)]  \n",
              "1  [Environment and Natural Resources Division]  \n",
              "2  [Environment and Natural Resources Division]  \n",
              "3  [Environment and Natural Resources Division]  \n",
              "4  [Environment and Natural Resources Division]  "
            ],
            "text/html": [
              "\n",
              "  <div id=\"df-e0aab252-288d-40cc-b9ef-5178d0c5019a\" class=\"colab-df-container\">\n",
              "    <div>\n",
              "<style scoped>\n",
              "    .dataframe tbody tr th:only-of-type {\n",
              "        vertical-align: middle;\n",
              "    }\n",
              "\n",
              "    .dataframe tbody tr th {\n",
              "        vertical-align: top;\n",
              "    }\n",
              "\n",
              "    .dataframe thead th {\n",
              "        text-align: right;\n",
              "    }\n",
              "</style>\n",
              "<table border=\"1\" class=\"dataframe\">\n",
              "  <thead>\n",
              "    <tr style=\"text-align: right;\">\n",
              "      <th></th>\n",
              "      <th>id</th>\n",
              "      <th>title</th>\n",
              "      <th>contents</th>\n",
              "      <th>date</th>\n",
              "      <th>topics</th>\n",
              "      <th>components</th>\n",
              "    </tr>\n",
              "  </thead>\n",
              "  <tbody>\n",
              "    <tr>\n",
              "      <th>0</th>\n",
              "      <td>None</td>\n",
              "      <td>Convicted Bomb Plotter Sentenced to 30 Years</td>\n",
              "      <td>PORTLAND, Oregon. – Mohamed Osman Mohamud, 23,...</td>\n",
              "      <td>2014-10-01T00:00:00-04:00</td>\n",
              "      <td>[]</td>\n",
              "      <td>[National Security Division (NSD)]</td>\n",
              "    </tr>\n",
              "    <tr>\n",
              "      <th>1</th>\n",
              "      <td>12-919</td>\n",
              "      <td>$1 Million in Restitution Payments Announced t...</td>\n",
              "      <td>WASHINGTON – North Carolina’s Waccamaw River...</td>\n",
              "      <td>2012-07-25T00:00:00-04:00</td>\n",
              "      <td>[]</td>\n",
              "      <td>[Environment and Natural Resources Division]</td>\n",
              "    </tr>\n",
              "    <tr>\n",
              "      <th>2</th>\n",
              "      <td>11-1002</td>\n",
              "      <td>$1 Million Settlement Reached for Natural Reso...</td>\n",
              "      <td>BOSTON– A $1-million settlement has been...</td>\n",
              "      <td>2011-08-03T00:00:00-04:00</td>\n",
              "      <td>[]</td>\n",
              "      <td>[Environment and Natural Resources Division]</td>\n",
              "    </tr>\n",
              "    <tr>\n",
              "      <th>3</th>\n",
              "      <td>10-015</td>\n",
              "      <td>10 Las Vegas Men Indicted \\r\\nfor Falsifying V...</td>\n",
              "      <td>WASHINGTON—A federal grand jury in Las Vegas...</td>\n",
              "      <td>2010-01-08T00:00:00-05:00</td>\n",
              "      <td>[]</td>\n",
              "      <td>[Environment and Natural Resources Division]</td>\n",
              "    </tr>\n",
              "    <tr>\n",
              "      <th>4</th>\n",
              "      <td>18-898</td>\n",
              "      <td>$100 Million Settlement Will Speed Cleanup Wor...</td>\n",
              "      <td>The U.S. Department of Justice, the U.S. Envir...</td>\n",
              "      <td>2018-07-09T00:00:00-04:00</td>\n",
              "      <td>[Environment]</td>\n",
              "      <td>[Environment and Natural Resources Division]</td>\n",
              "    </tr>\n",
              "  </tbody>\n",
              "</table>\n",
              "</div>\n",
              "    <div class=\"colab-df-buttons\">\n",
              "\n",
              "  <div class=\"colab-df-container\">\n",
              "    <button class=\"colab-df-convert\" onclick=\"convertToInteractive('df-e0aab252-288d-40cc-b9ef-5178d0c5019a')\"\n",
              "            title=\"Convert this dataframe to an interactive table.\"\n",
              "            style=\"display:none;\">\n",
              "\n",
              "  <svg xmlns=\"http://www.w3.org/2000/svg\" height=\"24px\" viewBox=\"0 -960 960 960\">\n",
              "    <path d=\"M120-120v-720h720v720H120Zm60-500h600v-160H180v160Zm220 220h160v-160H400v160Zm0 220h160v-160H400v160ZM180-400h160v-160H180v160Zm440 0h160v-160H620v160ZM180-180h160v-160H180v160Zm440 0h160v-160H620v160Z\"/>\n",
              "  </svg>\n",
              "    </button>\n",
              "\n",
              "  <style>\n",
              "    .colab-df-container {\n",
              "      display:flex;\n",
              "      gap: 12px;\n",
              "    }\n",
              "\n",
              "    .colab-df-convert {\n",
              "      background-color: #E8F0FE;\n",
              "      border: none;\n",
              "      border-radius: 50%;\n",
              "      cursor: pointer;\n",
              "      display: none;\n",
              "      fill: #1967D2;\n",
              "      height: 32px;\n",
              "      padding: 0 0 0 0;\n",
              "      width: 32px;\n",
              "    }\n",
              "\n",
              "    .colab-df-convert:hover {\n",
              "      background-color: #E2EBFA;\n",
              "      box-shadow: 0px 1px 2px rgba(60, 64, 67, 0.3), 0px 1px 3px 1px rgba(60, 64, 67, 0.15);\n",
              "      fill: #174EA6;\n",
              "    }\n",
              "\n",
              "    .colab-df-buttons div {\n",
              "      margin-bottom: 4px;\n",
              "    }\n",
              "\n",
              "    [theme=dark] .colab-df-convert {\n",
              "      background-color: #3B4455;\n",
              "      fill: #D2E3FC;\n",
              "    }\n",
              "\n",
              "    [theme=dark] .colab-df-convert:hover {\n",
              "      background-color: #434B5C;\n",
              "      box-shadow: 0px 1px 3px 1px rgba(0, 0, 0, 0.15);\n",
              "      filter: drop-shadow(0px 1px 2px rgba(0, 0, 0, 0.3));\n",
              "      fill: #FFFFFF;\n",
              "    }\n",
              "  </style>\n",
              "\n",
              "    <script>\n",
              "      const buttonEl =\n",
              "        document.querySelector('#df-e0aab252-288d-40cc-b9ef-5178d0c5019a button.colab-df-convert');\n",
              "      buttonEl.style.display =\n",
              "        google.colab.kernel.accessAllowed ? 'block' : 'none';\n",
              "\n",
              "      async function convertToInteractive(key) {\n",
              "        const element = document.querySelector('#df-e0aab252-288d-40cc-b9ef-5178d0c5019a');\n",
              "        const dataTable =\n",
              "          await google.colab.kernel.invokeFunction('convertToInteractive',\n",
              "                                                    [key], {});\n",
              "        if (!dataTable) return;\n",
              "\n",
              "        const docLinkHtml = 'Like what you see? Visit the ' +\n",
              "          '<a target=\"_blank\" href=https://colab.research.google.com/notebooks/data_table.ipynb>data table notebook</a>'\n",
              "          + ' to learn more about interactive tables.';\n",
              "        element.innerHTML = '';\n",
              "        dataTable['output_type'] = 'display_data';\n",
              "        await google.colab.output.renderOutput(dataTable, element);\n",
              "        const docLink = document.createElement('div');\n",
              "        docLink.innerHTML = docLinkHtml;\n",
              "        element.appendChild(docLink);\n",
              "      }\n",
              "    </script>\n",
              "  </div>\n",
              "\n",
              "\n",
              "<div id=\"df-c2f12789-e39f-4999-af67-9b1766aab6fb\">\n",
              "  <button class=\"colab-df-quickchart\" onclick=\"quickchart('df-c2f12789-e39f-4999-af67-9b1766aab6fb')\"\n",
              "            title=\"Suggest charts\"\n",
              "            style=\"display:none;\">\n",
              "\n",
              "<svg xmlns=\"http://www.w3.org/2000/svg\" height=\"24px\"viewBox=\"0 0 24 24\"\n",
              "     width=\"24px\">\n",
              "    <g>\n",
              "        <path d=\"M19 3H5c-1.1 0-2 .9-2 2v14c0 1.1.9 2 2 2h14c1.1 0 2-.9 2-2V5c0-1.1-.9-2-2-2zM9 17H7v-7h2v7zm4 0h-2V7h2v10zm4 0h-2v-4h2v4z\"/>\n",
              "    </g>\n",
              "</svg>\n",
              "  </button>\n",
              "\n",
              "<style>\n",
              "  .colab-df-quickchart {\n",
              "      --bg-color: #E8F0FE;\n",
              "      --fill-color: #1967D2;\n",
              "      --hover-bg-color: #E2EBFA;\n",
              "      --hover-fill-color: #174EA6;\n",
              "      --disabled-fill-color: #AAA;\n",
              "      --disabled-bg-color: #DDD;\n",
              "  }\n",
              "\n",
              "  [theme=dark] .colab-df-quickchart {\n",
              "      --bg-color: #3B4455;\n",
              "      --fill-color: #D2E3FC;\n",
              "      --hover-bg-color: #434B5C;\n",
              "      --hover-fill-color: #FFFFFF;\n",
              "      --disabled-bg-color: #3B4455;\n",
              "      --disabled-fill-color: #666;\n",
              "  }\n",
              "\n",
              "  .colab-df-quickchart {\n",
              "    background-color: var(--bg-color);\n",
              "    border: none;\n",
              "    border-radius: 50%;\n",
              "    cursor: pointer;\n",
              "    display: none;\n",
              "    fill: var(--fill-color);\n",
              "    height: 32px;\n",
              "    padding: 0;\n",
              "    width: 32px;\n",
              "  }\n",
              "\n",
              "  .colab-df-quickchart:hover {\n",
              "    background-color: var(--hover-bg-color);\n",
              "    box-shadow: 0 1px 2px rgba(60, 64, 67, 0.3), 0 1px 3px 1px rgba(60, 64, 67, 0.15);\n",
              "    fill: var(--button-hover-fill-color);\n",
              "  }\n",
              "\n",
              "  .colab-df-quickchart-complete:disabled,\n",
              "  .colab-df-quickchart-complete:disabled:hover {\n",
              "    background-color: var(--disabled-bg-color);\n",
              "    fill: var(--disabled-fill-color);\n",
              "    box-shadow: none;\n",
              "  }\n",
              "\n",
              "  .colab-df-spinner {\n",
              "    border: 2px solid var(--fill-color);\n",
              "    border-color: transparent;\n",
              "    border-bottom-color: var(--fill-color);\n",
              "    animation:\n",
              "      spin 1s steps(1) infinite;\n",
              "  }\n",
              "\n",
              "  @keyframes spin {\n",
              "    0% {\n",
              "      border-color: transparent;\n",
              "      border-bottom-color: var(--fill-color);\n",
              "      border-left-color: var(--fill-color);\n",
              "    }\n",
              "    20% {\n",
              "      border-color: transparent;\n",
              "      border-left-color: var(--fill-color);\n",
              "      border-top-color: var(--fill-color);\n",
              "    }\n",
              "    30% {\n",
              "      border-color: transparent;\n",
              "      border-left-color: var(--fill-color);\n",
              "      border-top-color: var(--fill-color);\n",
              "      border-right-color: var(--fill-color);\n",
              "    }\n",
              "    40% {\n",
              "      border-color: transparent;\n",
              "      border-right-color: var(--fill-color);\n",
              "      border-top-color: var(--fill-color);\n",
              "    }\n",
              "    60% {\n",
              "      border-color: transparent;\n",
              "      border-right-color: var(--fill-color);\n",
              "    }\n",
              "    80% {\n",
              "      border-color: transparent;\n",
              "      border-right-color: var(--fill-color);\n",
              "      border-bottom-color: var(--fill-color);\n",
              "    }\n",
              "    90% {\n",
              "      border-color: transparent;\n",
              "      border-bottom-color: var(--fill-color);\n",
              "    }\n",
              "  }\n",
              "</style>\n",
              "\n",
              "  <script>\n",
              "    async function quickchart(key) {\n",
              "      const quickchartButtonEl =\n",
              "        document.querySelector('#' + key + ' button');\n",
              "      quickchartButtonEl.disabled = true;  // To prevent multiple clicks.\n",
              "      quickchartButtonEl.classList.add('colab-df-spinner');\n",
              "      try {\n",
              "        const charts = await google.colab.kernel.invokeFunction(\n",
              "            'suggestCharts', [key], {});\n",
              "      } catch (error) {\n",
              "        console.error('Error during call to suggestCharts:', error);\n",
              "      }\n",
              "      quickchartButtonEl.classList.remove('colab-df-spinner');\n",
              "      quickchartButtonEl.classList.add('colab-df-quickchart-complete');\n",
              "    }\n",
              "    (() => {\n",
              "      let quickchartButtonEl =\n",
              "        document.querySelector('#df-c2f12789-e39f-4999-af67-9b1766aab6fb button');\n",
              "      quickchartButtonEl.style.display =\n",
              "        google.colab.kernel.accessAllowed ? 'block' : 'none';\n",
              "    })();\n",
              "  </script>\n",
              "</div>\n",
              "\n",
              "    </div>\n",
              "  </div>\n"
            ],
            "application/vnd.google.colaboratory.intrinsic+json": {
              "type": "dataframe",
              "variable_name": "df",
              "summary": "{\n  \"name\": \"df\",\n  \"rows\": 13087,\n  \"fields\": [\n    {\n      \"column\": \"id\",\n      \"properties\": {\n        \"dtype\": \"string\",\n        \"num_unique_values\": 12672,\n        \"samples\": [\n          \"18 - 320\",\n          \"16-769\",\n          \"17-401\"\n        ],\n        \"semantic_type\": \"\",\n        \"description\": \"\"\n      }\n    },\n    {\n      \"column\": \"title\",\n      \"properties\": {\n        \"dtype\": \"string\",\n        \"num_unique_values\": 12887,\n        \"samples\": [\n          \"14 Individuals Charged with Trafficking Identities of Puerto Rican U.S. Citizens\",\n          \"Former Puerto Rico Senator and Businessman Found Guilty of Bribery\",\n          \"Honduran Man Pleads Guilty to Conspiring to Launder Over $1 Million in Bribes and Funds Misappropriated From the Honduran Social Security Agency \"\n        ],\n        \"semantic_type\": \"\",\n        \"description\": \"\"\n      }\n    },\n    {\n      \"column\": \"contents\",\n      \"properties\": {\n        \"dtype\": \"string\",\n        \"num_unique_values\": 13080,\n        \"samples\": [\n          \" Habtom Merhay, a national of Eritrea and a citizen of the United Kingdom, made his initial appearance today in Washington, D.C., federal court to face human smuggling charges for his role in smuggling primarily Eritrean and Ethiopian undocumented migrants from Dubai, United Arab Emirates, through South and Central America and Mexico into the United States.Acting Assistant Attorney General David A. O\\u2019Neil of the Justice Department\\u2019s Criminal Division, U.S. Attorney Ronald C. Machen Jr.\\u00a0of the District of Columbia and Acting Special Agent in Charge Katrina W. Berger of U.S. Immigration and Customs Enforcement\\u2019s (ICE) Homeland Security Investigations (HSI) made the announcement.Merhay, 47, arrived in the United States on April 25, 2014, and made his initial appearance today before U.S. Magistrate Judge Deborah A. Robinson in the District of Columbia.   He was indicted under seal in the District of Columbia in 2012, and the charges were unsealed today.   Merhay has been in the custody of Moroccan authorities pending extradition since his arrest in Marrakech, Morocco, in August 2013.The indictment charges Merhay with one count of conspiracy to bring undocumented migrants to the United States for profit and 15 counts of unlawfully bringing an undocumented migrant to the United States for profit.   Court documents allege that Merhay operated with a network of smugglers in Africa, the United Arab Emirates, South and Central America, Mexico and elsewhere to coordinate and implement arrangements, including providing fraudulent identity and travel documents, for undocumented migrants to travel through Latin America and ultimately into the United States without authorization.   For up to $15,000, Merhay arranged for individual undocumented migrants to travel from points in Africa to a house or apartment in Dubai, where he provided travel documents, tickets and instructions for meeting other smugglers while on the way to the United States.   Merhay coordinated the migrants\\u2019 air travel to South America, where they would meet with Merhay\\u2019s associates, who would direct or guide them across the various country borders.   The undocumented migrants then met with other smugglers associated with Merhay and were further guided north to Mexico and then into the United States, sometimes by crossing the Rio Grande River by raft.The investigation was conducted under the Extraterritorial Criminal Travel Strike Force (ECT) program, a joint partnership between the Justice Department\\u2019s Criminal Division and ICE-HSI.   The ECT program focuses on human smuggling networks that may present particular national security or public safety risks or present grave humanitarian concerns.   ECT has dedicated investigative, intelligence and prosecutorial resources.   ECT coordinates and receives assistance from other U.S. government agencies and foreign law enforcement authorities.The investigation was conducted by HSI Washington.\\u00a0 This case is being prosecuted by Trial Attorney Jay Bauer of the Criminal Division\\u2019s Human Rights and Special Prosecutions Section and Assistant U.S. Attorney Frederick Yette of the District of Columbia.\\u00a0 The extradition was handled by Dan E. Stigall of the Criminal Division\\u2019s Office of International Affairs.The Department of Justice and HSI expressed their appreciation for the significant assistance provided by the Moroccan Ministry of Justice.The charges contained in the indictment are merely accusations, and the defendant is presumed innocent unless and until proven guilty.      \\u00a0\",\n          \"  Metropolitan Ambulance & First Aid Corp. (now known as SEZ Metro Corp.), Metro North Ambulance Corp. (now known as SEZ North Corp.) and Big Apple Ambulance Service Inc. (formerly known as United Ambulance) have paid the United States $2.85 million to resolve false claims made to Medicare, the Justice Department announced today. The United States stipulated to the dismissal of the False Claims Act qui tam suit against the companies, including their president, Steve Zakheim.   The United States alleged that the companies and Zakheim used, or caused the use of, falsified records to appeal a Medicare program refund demand. Medicare had demanded the companies return millions of dollars they had been paid for medically unnecessary ambulance trips. Under Medicare rules, the companies could bill for these expensive non-emergency transports only if the patient could not be transported by any other means, such as by car or by wheelchair van. Medicare audited the companies\\u2019 past billings and concluded that the companies had charged Medicare tens of millions of dollars for ambulance trips that did not meet this standard. Medicare demanded a refund and afforded the companies an extensive informal and formal appeals process to prove that their billings were proper.   The government contended that, rather than contesting the refund demand fairly, the companies resorted to fraud when they could not otherwise prove an ambulance was medically needed. According to the suit, in their ensuing appeals, the companies used, and Zakheim caused the use of, hundreds of letters attesting to the need for an ambulance that were forged or otherwise purported to come from some neutral, disinterested health care provider when they in fact did not.   \\\"Those who benefit from Medicare must play by the rules,\\\" said Tony West, Assistant Attorney General for the Civil Division of the Department of Justice. \\\"We will diligently protect taxpayer dollars from those who use fraud and deceit to take advantage of federal health care programs.\\\"   \\\"Healthcare providers who seek to defraud the Medicare program by submitting false documents will be vigorously pursued and held accountable for their fraud,\\\" said U.S. Attorney Loretta E. Lynch.   This action was originally filed by Larry Kaplan, a former Chief Financial Officer for one of the companies, under the False Claims Act. The qui tam, or whistleblower, provisions of the Act permit private citizens to file suit on behalf of the United States and share in any recovery. Mr. Kaplan\\u2019s share of the settlement announced today will be $618,450.   The investigation, litigation, and resolution of these allegations resulted from a coordinated effort by the Justice Department\\u2019s Civil Division, the U.S. Attorney\\u2019s Office for the Eastern District of New York, the Department of Health and Human Services\\u2019 Office of Inspector General, and the Federal Bureau of Investigation.   The suit is United States ex rel. Kaplan v. Metropolitan Ambulance & First-Aid Corp. et al., Civil Action No. 00-3010 (E.D.N.Y.).   This settlement is part of the government\\u2019s emphasis on combating health care fraud. One of the most powerful tools in that effort is the False Claims Act, which the Justice Department has used to recover approximately $3 billion since January 2009 in cases involving fraud against federal health care programs.\",\n          \"  WASHINGTON \\u2014 The United States has filed a complaint against Louisiana Generating alleging that the company violated the Clean Air Act by operating the Big Cajun 2 Power Plant, a coal-fired power plant in New Roads, La., without also installing and operating modern pollution control equipment after the generating units had undergone major modifications, the Justice Department and U.S. Environmental Protection Agency (EPA) announced today.\\u00a0   The complaint alleges that for more than a decade, the Big Cajun 2 Power Plant has operated without the best available emissions-control technology required by the New Source Review provisions of the Clean Air Act to control emissions of sulfur dioxide and nitrogen oxide, contributing to formation of fine particulate matter, smog and acid rain.   The lawsuit, filed by the Justice Department on behalf of the EPA, asks the court to order Louisiana Generating to install and operate appropriate air pollution control technology in order to substantially reduce sulfur dioxide and nitrogen oxide emissions from the Big Cajun 2 Power Plant.\\u00a0 The United States also seeks civil penalties up to the maximum amount authorized by law, as well as actions by the energy provider to mitigate the adverse effects alleged to have been caused by the violations.\\u00a0   Coal-fired power plants collectively produce more pollution than any other industry in the United States.\\u00a0 They account for nearly 70 percent of sulfur dioxide emissions each year and 20 percent of nitrogen oxides emissions.\\u00a0 Emissions from coal-fired power plants have detrimental health effects on asthma sufferers, the elderly and children.\\u00a0 Additionally, these emissions have been linked to forest degradation, waterway damage, reservoir contamination and deterioration of stone and copper in buildings.   To combat these adverse effects, the EPA and the Justice Department are pursuing a national initiative, targeting electric utilities whose coal-fired power plants violate the law.\\u00a0 The suit was filed in the U.S. District Court in Baton Rouge, La.\"\n        ],\n        \"semantic_type\": \"\",\n        \"description\": \"\"\n      }\n    },\n    {\n      \"column\": \"date\",\n      \"properties\": {\n        \"dtype\": \"object\",\n        \"num_unique_values\": 2400,\n        \"samples\": [\n          \"2010-10-12T00:00:00-04:00\",\n          \"2013-12-23T00:00:00-05:00\",\n          \"2013-07-02T00:00:00-04:00\"\n        ],\n        \"semantic_type\": \"\",\n        \"description\": \"\"\n      }\n    },\n    {\n      \"column\": \"topics\",\n      \"properties\": {\n        \"dtype\": \"object\",\n        \"semantic_type\": \"\",\n        \"description\": \"\"\n      }\n    },\n    {\n      \"column\": \"components\",\n      \"properties\": {\n        \"dtype\": \"object\",\n        \"semantic_type\": \"\",\n        \"description\": \"\"\n      }\n    }\n  ]\n}"
            }
          },
          "metadata": {},
          "execution_count": 15
        }
      ]
    },
    {
      "cell_type": "code",
      "source": [
        "df= df[df['topics'].str.len() != 0]\n",
        "df.head()"
      ],
      "metadata": {
        "colab": {
          "base_uri": "https://localhost:8080/",
          "height": 293
        },
        "id": "HmoQNjlVCr-V",
        "outputId": "42aa1737-1d9c-4b86-d22f-cf08b7899fc1"
      },
      "execution_count": 17,
      "outputs": [
        {
          "output_type": "execute_result",
          "data": {
            "text/plain": [
              "         id                                              title  \\\n",
              "4    18-898  $100 Million Settlement Will Speed Cleanup Wor...   \n",
              "7   14-1412  14 Indicted in Connection with New England Com...   \n",
              "19  17-1419  2017 Southeast Regional Animal Cruelty Prosecu...   \n",
              "22  15-1562  21st Century Oncology to Pay $19.75 Million to...   \n",
              "23  17-1404  21st Century Oncology to Pay $26 Million to Se...   \n",
              "\n",
              "                                             contents  \\\n",
              "4   The U.S. Department of Justice, the U.S. Envir...   \n",
              "7   A 131-count criminal indictment was unsealed t...   \n",
              "19  The United States Attorney’s Office for the Mi...   \n",
              "22  21st Century Oncology LLC, has agreed to pay $...   \n",
              "23  21st Century Oncology Inc. and certain of its ...   \n",
              "\n",
              "                         date                                 topics  \\\n",
              "4   2018-07-09T00:00:00-04:00                          [Environment]   \n",
              "7   2014-12-17T00:00:00-05:00                  [Consumer Protection]   \n",
              "19  2017-12-14T00:00:00-05:00                          [Environment]   \n",
              "22  2015-12-18T00:00:00-05:00  [False Claims Act, Health Care Fraud]   \n",
              "23  2017-12-12T00:00:00-05:00  [Health Care Fraud, False Claims Act]   \n",
              "\n",
              "                                           components  \n",
              "4        [Environment and Natural Resources Division]  \n",
              "7                                    [Civil Division]  \n",
              "19  [Environment and Natural Resources Division, U...  \n",
              "22                                   [Civil Division]  \n",
              "23           [Civil Division, USAO - Florida, Middle]  "
            ],
            "text/html": [
              "\n",
              "  <div id=\"df-dfb1e4ab-c752-4574-b8e2-6d853d3281e8\" class=\"colab-df-container\">\n",
              "    <div>\n",
              "<style scoped>\n",
              "    .dataframe tbody tr th:only-of-type {\n",
              "        vertical-align: middle;\n",
              "    }\n",
              "\n",
              "    .dataframe tbody tr th {\n",
              "        vertical-align: top;\n",
              "    }\n",
              "\n",
              "    .dataframe thead th {\n",
              "        text-align: right;\n",
              "    }\n",
              "</style>\n",
              "<table border=\"1\" class=\"dataframe\">\n",
              "  <thead>\n",
              "    <tr style=\"text-align: right;\">\n",
              "      <th></th>\n",
              "      <th>id</th>\n",
              "      <th>title</th>\n",
              "      <th>contents</th>\n",
              "      <th>date</th>\n",
              "      <th>topics</th>\n",
              "      <th>components</th>\n",
              "    </tr>\n",
              "  </thead>\n",
              "  <tbody>\n",
              "    <tr>\n",
              "      <th>4</th>\n",
              "      <td>18-898</td>\n",
              "      <td>$100 Million Settlement Will Speed Cleanup Wor...</td>\n",
              "      <td>The U.S. Department of Justice, the U.S. Envir...</td>\n",
              "      <td>2018-07-09T00:00:00-04:00</td>\n",
              "      <td>[Environment]</td>\n",
              "      <td>[Environment and Natural Resources Division]</td>\n",
              "    </tr>\n",
              "    <tr>\n",
              "      <th>7</th>\n",
              "      <td>14-1412</td>\n",
              "      <td>14 Indicted in Connection with New England Com...</td>\n",
              "      <td>A 131-count criminal indictment was unsealed t...</td>\n",
              "      <td>2014-12-17T00:00:00-05:00</td>\n",
              "      <td>[Consumer Protection]</td>\n",
              "      <td>[Civil Division]</td>\n",
              "    </tr>\n",
              "    <tr>\n",
              "      <th>19</th>\n",
              "      <td>17-1419</td>\n",
              "      <td>2017 Southeast Regional Animal Cruelty Prosecu...</td>\n",
              "      <td>The United States Attorney’s Office for the Mi...</td>\n",
              "      <td>2017-12-14T00:00:00-05:00</td>\n",
              "      <td>[Environment]</td>\n",
              "      <td>[Environment and Natural Resources Division, U...</td>\n",
              "    </tr>\n",
              "    <tr>\n",
              "      <th>22</th>\n",
              "      <td>15-1562</td>\n",
              "      <td>21st Century Oncology to Pay $19.75 Million to...</td>\n",
              "      <td>21st Century Oncology LLC, has agreed to pay $...</td>\n",
              "      <td>2015-12-18T00:00:00-05:00</td>\n",
              "      <td>[False Claims Act, Health Care Fraud]</td>\n",
              "      <td>[Civil Division]</td>\n",
              "    </tr>\n",
              "    <tr>\n",
              "      <th>23</th>\n",
              "      <td>17-1404</td>\n",
              "      <td>21st Century Oncology to Pay $26 Million to Se...</td>\n",
              "      <td>21st Century Oncology Inc. and certain of its ...</td>\n",
              "      <td>2017-12-12T00:00:00-05:00</td>\n",
              "      <td>[Health Care Fraud, False Claims Act]</td>\n",
              "      <td>[Civil Division, USAO - Florida, Middle]</td>\n",
              "    </tr>\n",
              "  </tbody>\n",
              "</table>\n",
              "</div>\n",
              "    <div class=\"colab-df-buttons\">\n",
              "\n",
              "  <div class=\"colab-df-container\">\n",
              "    <button class=\"colab-df-convert\" onclick=\"convertToInteractive('df-dfb1e4ab-c752-4574-b8e2-6d853d3281e8')\"\n",
              "            title=\"Convert this dataframe to an interactive table.\"\n",
              "            style=\"display:none;\">\n",
              "\n",
              "  <svg xmlns=\"http://www.w3.org/2000/svg\" height=\"24px\" viewBox=\"0 -960 960 960\">\n",
              "    <path d=\"M120-120v-720h720v720H120Zm60-500h600v-160H180v160Zm220 220h160v-160H400v160Zm0 220h160v-160H400v160ZM180-400h160v-160H180v160Zm440 0h160v-160H620v160ZM180-180h160v-160H180v160Zm440 0h160v-160H620v160Z\"/>\n",
              "  </svg>\n",
              "    </button>\n",
              "\n",
              "  <style>\n",
              "    .colab-df-container {\n",
              "      display:flex;\n",
              "      gap: 12px;\n",
              "    }\n",
              "\n",
              "    .colab-df-convert {\n",
              "      background-color: #E8F0FE;\n",
              "      border: none;\n",
              "      border-radius: 50%;\n",
              "      cursor: pointer;\n",
              "      display: none;\n",
              "      fill: #1967D2;\n",
              "      height: 32px;\n",
              "      padding: 0 0 0 0;\n",
              "      width: 32px;\n",
              "    }\n",
              "\n",
              "    .colab-df-convert:hover {\n",
              "      background-color: #E2EBFA;\n",
              "      box-shadow: 0px 1px 2px rgba(60, 64, 67, 0.3), 0px 1px 3px 1px rgba(60, 64, 67, 0.15);\n",
              "      fill: #174EA6;\n",
              "    }\n",
              "\n",
              "    .colab-df-buttons div {\n",
              "      margin-bottom: 4px;\n",
              "    }\n",
              "\n",
              "    [theme=dark] .colab-df-convert {\n",
              "      background-color: #3B4455;\n",
              "      fill: #D2E3FC;\n",
              "    }\n",
              "\n",
              "    [theme=dark] .colab-df-convert:hover {\n",
              "      background-color: #434B5C;\n",
              "      box-shadow: 0px 1px 3px 1px rgba(0, 0, 0, 0.15);\n",
              "      filter: drop-shadow(0px 1px 2px rgba(0, 0, 0, 0.3));\n",
              "      fill: #FFFFFF;\n",
              "    }\n",
              "  </style>\n",
              "\n",
              "    <script>\n",
              "      const buttonEl =\n",
              "        document.querySelector('#df-dfb1e4ab-c752-4574-b8e2-6d853d3281e8 button.colab-df-convert');\n",
              "      buttonEl.style.display =\n",
              "        google.colab.kernel.accessAllowed ? 'block' : 'none';\n",
              "\n",
              "      async function convertToInteractive(key) {\n",
              "        const element = document.querySelector('#df-dfb1e4ab-c752-4574-b8e2-6d853d3281e8');\n",
              "        const dataTable =\n",
              "          await google.colab.kernel.invokeFunction('convertToInteractive',\n",
              "                                                    [key], {});\n",
              "        if (!dataTable) return;\n",
              "\n",
              "        const docLinkHtml = 'Like what you see? Visit the ' +\n",
              "          '<a target=\"_blank\" href=https://colab.research.google.com/notebooks/data_table.ipynb>data table notebook</a>'\n",
              "          + ' to learn more about interactive tables.';\n",
              "        element.innerHTML = '';\n",
              "        dataTable['output_type'] = 'display_data';\n",
              "        await google.colab.output.renderOutput(dataTable, element);\n",
              "        const docLink = document.createElement('div');\n",
              "        docLink.innerHTML = docLinkHtml;\n",
              "        element.appendChild(docLink);\n",
              "      }\n",
              "    </script>\n",
              "  </div>\n",
              "\n",
              "\n",
              "<div id=\"df-413f76cb-83d6-4399-9991-e278ebdf4762\">\n",
              "  <button class=\"colab-df-quickchart\" onclick=\"quickchart('df-413f76cb-83d6-4399-9991-e278ebdf4762')\"\n",
              "            title=\"Suggest charts\"\n",
              "            style=\"display:none;\">\n",
              "\n",
              "<svg xmlns=\"http://www.w3.org/2000/svg\" height=\"24px\"viewBox=\"0 0 24 24\"\n",
              "     width=\"24px\">\n",
              "    <g>\n",
              "        <path d=\"M19 3H5c-1.1 0-2 .9-2 2v14c0 1.1.9 2 2 2h14c1.1 0 2-.9 2-2V5c0-1.1-.9-2-2-2zM9 17H7v-7h2v7zm4 0h-2V7h2v10zm4 0h-2v-4h2v4z\"/>\n",
              "    </g>\n",
              "</svg>\n",
              "  </button>\n",
              "\n",
              "<style>\n",
              "  .colab-df-quickchart {\n",
              "      --bg-color: #E8F0FE;\n",
              "      --fill-color: #1967D2;\n",
              "      --hover-bg-color: #E2EBFA;\n",
              "      --hover-fill-color: #174EA6;\n",
              "      --disabled-fill-color: #AAA;\n",
              "      --disabled-bg-color: #DDD;\n",
              "  }\n",
              "\n",
              "  [theme=dark] .colab-df-quickchart {\n",
              "      --bg-color: #3B4455;\n",
              "      --fill-color: #D2E3FC;\n",
              "      --hover-bg-color: #434B5C;\n",
              "      --hover-fill-color: #FFFFFF;\n",
              "      --disabled-bg-color: #3B4455;\n",
              "      --disabled-fill-color: #666;\n",
              "  }\n",
              "\n",
              "  .colab-df-quickchart {\n",
              "    background-color: var(--bg-color);\n",
              "    border: none;\n",
              "    border-radius: 50%;\n",
              "    cursor: pointer;\n",
              "    display: none;\n",
              "    fill: var(--fill-color);\n",
              "    height: 32px;\n",
              "    padding: 0;\n",
              "    width: 32px;\n",
              "  }\n",
              "\n",
              "  .colab-df-quickchart:hover {\n",
              "    background-color: var(--hover-bg-color);\n",
              "    box-shadow: 0 1px 2px rgba(60, 64, 67, 0.3), 0 1px 3px 1px rgba(60, 64, 67, 0.15);\n",
              "    fill: var(--button-hover-fill-color);\n",
              "  }\n",
              "\n",
              "  .colab-df-quickchart-complete:disabled,\n",
              "  .colab-df-quickchart-complete:disabled:hover {\n",
              "    background-color: var(--disabled-bg-color);\n",
              "    fill: var(--disabled-fill-color);\n",
              "    box-shadow: none;\n",
              "  }\n",
              "\n",
              "  .colab-df-spinner {\n",
              "    border: 2px solid var(--fill-color);\n",
              "    border-color: transparent;\n",
              "    border-bottom-color: var(--fill-color);\n",
              "    animation:\n",
              "      spin 1s steps(1) infinite;\n",
              "  }\n",
              "\n",
              "  @keyframes spin {\n",
              "    0% {\n",
              "      border-color: transparent;\n",
              "      border-bottom-color: var(--fill-color);\n",
              "      border-left-color: var(--fill-color);\n",
              "    }\n",
              "    20% {\n",
              "      border-color: transparent;\n",
              "      border-left-color: var(--fill-color);\n",
              "      border-top-color: var(--fill-color);\n",
              "    }\n",
              "    30% {\n",
              "      border-color: transparent;\n",
              "      border-left-color: var(--fill-color);\n",
              "      border-top-color: var(--fill-color);\n",
              "      border-right-color: var(--fill-color);\n",
              "    }\n",
              "    40% {\n",
              "      border-color: transparent;\n",
              "      border-right-color: var(--fill-color);\n",
              "      border-top-color: var(--fill-color);\n",
              "    }\n",
              "    60% {\n",
              "      border-color: transparent;\n",
              "      border-right-color: var(--fill-color);\n",
              "    }\n",
              "    80% {\n",
              "      border-color: transparent;\n",
              "      border-right-color: var(--fill-color);\n",
              "      border-bottom-color: var(--fill-color);\n",
              "    }\n",
              "    90% {\n",
              "      border-color: transparent;\n",
              "      border-bottom-color: var(--fill-color);\n",
              "    }\n",
              "  }\n",
              "</style>\n",
              "\n",
              "  <script>\n",
              "    async function quickchart(key) {\n",
              "      const quickchartButtonEl =\n",
              "        document.querySelector('#' + key + ' button');\n",
              "      quickchartButtonEl.disabled = true;  // To prevent multiple clicks.\n",
              "      quickchartButtonEl.classList.add('colab-df-spinner');\n",
              "      try {\n",
              "        const charts = await google.colab.kernel.invokeFunction(\n",
              "            'suggestCharts', [key], {});\n",
              "      } catch (error) {\n",
              "        console.error('Error during call to suggestCharts:', error);\n",
              "      }\n",
              "      quickchartButtonEl.classList.remove('colab-df-spinner');\n",
              "      quickchartButtonEl.classList.add('colab-df-quickchart-complete');\n",
              "    }\n",
              "    (() => {\n",
              "      let quickchartButtonEl =\n",
              "        document.querySelector('#df-413f76cb-83d6-4399-9991-e278ebdf4762 button');\n",
              "      quickchartButtonEl.style.display =\n",
              "        google.colab.kernel.accessAllowed ? 'block' : 'none';\n",
              "    })();\n",
              "  </script>\n",
              "</div>\n",
              "\n",
              "    </div>\n",
              "  </div>\n"
            ],
            "application/vnd.google.colaboratory.intrinsic+json": {
              "type": "dataframe",
              "variable_name": "df",
              "repr_error": "0"
            }
          },
          "metadata": {},
          "execution_count": 17
        }
      ]
    },
    {
      "cell_type": "code",
      "source": [
        "df= df.head(100)\n",
        "df[\"contents_new\"]= df[\"contents\"].apply(preprocess)\n",
        "df.head(4)"
      ],
      "metadata": {
        "colab": {
          "base_uri": "https://localhost:8080/",
          "height": 313
        },
        "id": "wX0UuCUUE3R0",
        "outputId": "8688f53b-62e4-4989-e7d8-40da2170df6f"
      },
      "execution_count": 25,
      "outputs": [
        {
          "output_type": "execute_result",
          "data": {
            "text/plain": [
              "         id                                              title  \\\n",
              "4    18-898  $100 Million Settlement Will Speed Cleanup Wor...   \n",
              "7   14-1412  14 Indicted in Connection with New England Com...   \n",
              "19  17-1419  2017 Southeast Regional Animal Cruelty Prosecu...   \n",
              "22  15-1562  21st Century Oncology to Pay $19.75 Million to...   \n",
              "\n",
              "                                             contents  \\\n",
              "4   The U.S. Department of Justice, the U.S. Envir...   \n",
              "7   A 131-count criminal indictment was unsealed t...   \n",
              "19  The United States Attorney’s Office for the Mi...   \n",
              "22  21st Century Oncology LLC, has agreed to pay $...   \n",
              "\n",
              "                         date                                 topics  \\\n",
              "4   2018-07-09T00:00:00-04:00                          [Environment]   \n",
              "7   2014-12-17T00:00:00-05:00                  [Consumer Protection]   \n",
              "19  2017-12-14T00:00:00-05:00                          [Environment]   \n",
              "22  2015-12-18T00:00:00-05:00  [False Claims Act, Health Care Fraud]   \n",
              "\n",
              "                                           components  \\\n",
              "4        [Environment and Natural Resources Division]   \n",
              "7                                    [Civil Division]   \n",
              "19  [Environment and Natural Resources Division, U...   \n",
              "22                                   [Civil Division]   \n",
              "\n",
              "                                         contents_new  \n",
              "4   U.S. Department Justice U.S. Environmental Pro...  \n",
              "7   131 count criminal indictment unsealed today B...  \n",
              "19  United States Attorney Office Middle District ...  \n",
              "22  21st Century Oncology LLC agreed pay $ 19.75 m...  "
            ],
            "text/html": [
              "\n",
              "  <div id=\"df-d6ccb6e4-ae42-4b5a-8aaf-2107b1fc71d9\" class=\"colab-df-container\">\n",
              "    <div>\n",
              "<style scoped>\n",
              "    .dataframe tbody tr th:only-of-type {\n",
              "        vertical-align: middle;\n",
              "    }\n",
              "\n",
              "    .dataframe tbody tr th {\n",
              "        vertical-align: top;\n",
              "    }\n",
              "\n",
              "    .dataframe thead th {\n",
              "        text-align: right;\n",
              "    }\n",
              "</style>\n",
              "<table border=\"1\" class=\"dataframe\">\n",
              "  <thead>\n",
              "    <tr style=\"text-align: right;\">\n",
              "      <th></th>\n",
              "      <th>id</th>\n",
              "      <th>title</th>\n",
              "      <th>contents</th>\n",
              "      <th>date</th>\n",
              "      <th>topics</th>\n",
              "      <th>components</th>\n",
              "      <th>contents_new</th>\n",
              "    </tr>\n",
              "  </thead>\n",
              "  <tbody>\n",
              "    <tr>\n",
              "      <th>4</th>\n",
              "      <td>18-898</td>\n",
              "      <td>$100 Million Settlement Will Speed Cleanup Wor...</td>\n",
              "      <td>The U.S. Department of Justice, the U.S. Envir...</td>\n",
              "      <td>2018-07-09T00:00:00-04:00</td>\n",
              "      <td>[Environment]</td>\n",
              "      <td>[Environment and Natural Resources Division]</td>\n",
              "      <td>U.S. Department Justice U.S. Environmental Pro...</td>\n",
              "    </tr>\n",
              "    <tr>\n",
              "      <th>7</th>\n",
              "      <td>14-1412</td>\n",
              "      <td>14 Indicted in Connection with New England Com...</td>\n",
              "      <td>A 131-count criminal indictment was unsealed t...</td>\n",
              "      <td>2014-12-17T00:00:00-05:00</td>\n",
              "      <td>[Consumer Protection]</td>\n",
              "      <td>[Civil Division]</td>\n",
              "      <td>131 count criminal indictment unsealed today B...</td>\n",
              "    </tr>\n",
              "    <tr>\n",
              "      <th>19</th>\n",
              "      <td>17-1419</td>\n",
              "      <td>2017 Southeast Regional Animal Cruelty Prosecu...</td>\n",
              "      <td>The United States Attorney’s Office for the Mi...</td>\n",
              "      <td>2017-12-14T00:00:00-05:00</td>\n",
              "      <td>[Environment]</td>\n",
              "      <td>[Environment and Natural Resources Division, U...</td>\n",
              "      <td>United States Attorney Office Middle District ...</td>\n",
              "    </tr>\n",
              "    <tr>\n",
              "      <th>22</th>\n",
              "      <td>15-1562</td>\n",
              "      <td>21st Century Oncology to Pay $19.75 Million to...</td>\n",
              "      <td>21st Century Oncology LLC, has agreed to pay $...</td>\n",
              "      <td>2015-12-18T00:00:00-05:00</td>\n",
              "      <td>[False Claims Act, Health Care Fraud]</td>\n",
              "      <td>[Civil Division]</td>\n",
              "      <td>21st Century Oncology LLC agreed pay $ 19.75 m...</td>\n",
              "    </tr>\n",
              "  </tbody>\n",
              "</table>\n",
              "</div>\n",
              "    <div class=\"colab-df-buttons\">\n",
              "\n",
              "  <div class=\"colab-df-container\">\n",
              "    <button class=\"colab-df-convert\" onclick=\"convertToInteractive('df-d6ccb6e4-ae42-4b5a-8aaf-2107b1fc71d9')\"\n",
              "            title=\"Convert this dataframe to an interactive table.\"\n",
              "            style=\"display:none;\">\n",
              "\n",
              "  <svg xmlns=\"http://www.w3.org/2000/svg\" height=\"24px\" viewBox=\"0 -960 960 960\">\n",
              "    <path d=\"M120-120v-720h720v720H120Zm60-500h600v-160H180v160Zm220 220h160v-160H400v160Zm0 220h160v-160H400v160ZM180-400h160v-160H180v160Zm440 0h160v-160H620v160ZM180-180h160v-160H180v160Zm440 0h160v-160H620v160Z\"/>\n",
              "  </svg>\n",
              "    </button>\n",
              "\n",
              "  <style>\n",
              "    .colab-df-container {\n",
              "      display:flex;\n",
              "      gap: 12px;\n",
              "    }\n",
              "\n",
              "    .colab-df-convert {\n",
              "      background-color: #E8F0FE;\n",
              "      border: none;\n",
              "      border-radius: 50%;\n",
              "      cursor: pointer;\n",
              "      display: none;\n",
              "      fill: #1967D2;\n",
              "      height: 32px;\n",
              "      padding: 0 0 0 0;\n",
              "      width: 32px;\n",
              "    }\n",
              "\n",
              "    .colab-df-convert:hover {\n",
              "      background-color: #E2EBFA;\n",
              "      box-shadow: 0px 1px 2px rgba(60, 64, 67, 0.3), 0px 1px 3px 1px rgba(60, 64, 67, 0.15);\n",
              "      fill: #174EA6;\n",
              "    }\n",
              "\n",
              "    .colab-df-buttons div {\n",
              "      margin-bottom: 4px;\n",
              "    }\n",
              "\n",
              "    [theme=dark] .colab-df-convert {\n",
              "      background-color: #3B4455;\n",
              "      fill: #D2E3FC;\n",
              "    }\n",
              "\n",
              "    [theme=dark] .colab-df-convert:hover {\n",
              "      background-color: #434B5C;\n",
              "      box-shadow: 0px 1px 3px 1px rgba(0, 0, 0, 0.15);\n",
              "      filter: drop-shadow(0px 1px 2px rgba(0, 0, 0, 0.3));\n",
              "      fill: #FFFFFF;\n",
              "    }\n",
              "  </style>\n",
              "\n",
              "    <script>\n",
              "      const buttonEl =\n",
              "        document.querySelector('#df-d6ccb6e4-ae42-4b5a-8aaf-2107b1fc71d9 button.colab-df-convert');\n",
              "      buttonEl.style.display =\n",
              "        google.colab.kernel.accessAllowed ? 'block' : 'none';\n",
              "\n",
              "      async function convertToInteractive(key) {\n",
              "        const element = document.querySelector('#df-d6ccb6e4-ae42-4b5a-8aaf-2107b1fc71d9');\n",
              "        const dataTable =\n",
              "          await google.colab.kernel.invokeFunction('convertToInteractive',\n",
              "                                                    [key], {});\n",
              "        if (!dataTable) return;\n",
              "\n",
              "        const docLinkHtml = 'Like what you see? Visit the ' +\n",
              "          '<a target=\"_blank\" href=https://colab.research.google.com/notebooks/data_table.ipynb>data table notebook</a>'\n",
              "          + ' to learn more about interactive tables.';\n",
              "        element.innerHTML = '';\n",
              "        dataTable['output_type'] = 'display_data';\n",
              "        await google.colab.output.renderOutput(dataTable, element);\n",
              "        const docLink = document.createElement('div');\n",
              "        docLink.innerHTML = docLinkHtml;\n",
              "        element.appendChild(docLink);\n",
              "      }\n",
              "    </script>\n",
              "  </div>\n",
              "\n",
              "\n",
              "<div id=\"df-e58ad774-5ce9-4dbe-a5e4-4ce1e74b04da\">\n",
              "  <button class=\"colab-df-quickchart\" onclick=\"quickchart('df-e58ad774-5ce9-4dbe-a5e4-4ce1e74b04da')\"\n",
              "            title=\"Suggest charts\"\n",
              "            style=\"display:none;\">\n",
              "\n",
              "<svg xmlns=\"http://www.w3.org/2000/svg\" height=\"24px\"viewBox=\"0 0 24 24\"\n",
              "     width=\"24px\">\n",
              "    <g>\n",
              "        <path d=\"M19 3H5c-1.1 0-2 .9-2 2v14c0 1.1.9 2 2 2h14c1.1 0 2-.9 2-2V5c0-1.1-.9-2-2-2zM9 17H7v-7h2v7zm4 0h-2V7h2v10zm4 0h-2v-4h2v4z\"/>\n",
              "    </g>\n",
              "</svg>\n",
              "  </button>\n",
              "\n",
              "<style>\n",
              "  .colab-df-quickchart {\n",
              "      --bg-color: #E8F0FE;\n",
              "      --fill-color: #1967D2;\n",
              "      --hover-bg-color: #E2EBFA;\n",
              "      --hover-fill-color: #174EA6;\n",
              "      --disabled-fill-color: #AAA;\n",
              "      --disabled-bg-color: #DDD;\n",
              "  }\n",
              "\n",
              "  [theme=dark] .colab-df-quickchart {\n",
              "      --bg-color: #3B4455;\n",
              "      --fill-color: #D2E3FC;\n",
              "      --hover-bg-color: #434B5C;\n",
              "      --hover-fill-color: #FFFFFF;\n",
              "      --disabled-bg-color: #3B4455;\n",
              "      --disabled-fill-color: #666;\n",
              "  }\n",
              "\n",
              "  .colab-df-quickchart {\n",
              "    background-color: var(--bg-color);\n",
              "    border: none;\n",
              "    border-radius: 50%;\n",
              "    cursor: pointer;\n",
              "    display: none;\n",
              "    fill: var(--fill-color);\n",
              "    height: 32px;\n",
              "    padding: 0;\n",
              "    width: 32px;\n",
              "  }\n",
              "\n",
              "  .colab-df-quickchart:hover {\n",
              "    background-color: var(--hover-bg-color);\n",
              "    box-shadow: 0 1px 2px rgba(60, 64, 67, 0.3), 0 1px 3px 1px rgba(60, 64, 67, 0.15);\n",
              "    fill: var(--button-hover-fill-color);\n",
              "  }\n",
              "\n",
              "  .colab-df-quickchart-complete:disabled,\n",
              "  .colab-df-quickchart-complete:disabled:hover {\n",
              "    background-color: var(--disabled-bg-color);\n",
              "    fill: var(--disabled-fill-color);\n",
              "    box-shadow: none;\n",
              "  }\n",
              "\n",
              "  .colab-df-spinner {\n",
              "    border: 2px solid var(--fill-color);\n",
              "    border-color: transparent;\n",
              "    border-bottom-color: var(--fill-color);\n",
              "    animation:\n",
              "      spin 1s steps(1) infinite;\n",
              "  }\n",
              "\n",
              "  @keyframes spin {\n",
              "    0% {\n",
              "      border-color: transparent;\n",
              "      border-bottom-color: var(--fill-color);\n",
              "      border-left-color: var(--fill-color);\n",
              "    }\n",
              "    20% {\n",
              "      border-color: transparent;\n",
              "      border-left-color: var(--fill-color);\n",
              "      border-top-color: var(--fill-color);\n",
              "    }\n",
              "    30% {\n",
              "      border-color: transparent;\n",
              "      border-left-color: var(--fill-color);\n",
              "      border-top-color: var(--fill-color);\n",
              "      border-right-color: var(--fill-color);\n",
              "    }\n",
              "    40% {\n",
              "      border-color: transparent;\n",
              "      border-right-color: var(--fill-color);\n",
              "      border-top-color: var(--fill-color);\n",
              "    }\n",
              "    60% {\n",
              "      border-color: transparent;\n",
              "      border-right-color: var(--fill-color);\n",
              "    }\n",
              "    80% {\n",
              "      border-color: transparent;\n",
              "      border-right-color: var(--fill-color);\n",
              "      border-bottom-color: var(--fill-color);\n",
              "    }\n",
              "    90% {\n",
              "      border-color: transparent;\n",
              "      border-bottom-color: var(--fill-color);\n",
              "    }\n",
              "  }\n",
              "</style>\n",
              "\n",
              "  <script>\n",
              "    async function quickchart(key) {\n",
              "      const quickchartButtonEl =\n",
              "        document.querySelector('#' + key + ' button');\n",
              "      quickchartButtonEl.disabled = true;  // To prevent multiple clicks.\n",
              "      quickchartButtonEl.classList.add('colab-df-spinner');\n",
              "      try {\n",
              "        const charts = await google.colab.kernel.invokeFunction(\n",
              "            'suggestCharts', [key], {});\n",
              "      } catch (error) {\n",
              "        console.error('Error during call to suggestCharts:', error);\n",
              "      }\n",
              "      quickchartButtonEl.classList.remove('colab-df-spinner');\n",
              "      quickchartButtonEl.classList.add('colab-df-quickchart-complete');\n",
              "    }\n",
              "    (() => {\n",
              "      let quickchartButtonEl =\n",
              "        document.querySelector('#df-e58ad774-5ce9-4dbe-a5e4-4ce1e74b04da button');\n",
              "      quickchartButtonEl.style.display =\n",
              "        google.colab.kernel.accessAllowed ? 'block' : 'none';\n",
              "    })();\n",
              "  </script>\n",
              "</div>\n",
              "\n",
              "    </div>\n",
              "  </div>\n"
            ],
            "application/vnd.google.colaboratory.intrinsic+json": {
              "type": "dataframe",
              "variable_name": "df",
              "repr_error": "0"
            }
          },
          "metadata": {},
          "execution_count": 25
        }
      ]
    },
    {
      "cell_type": "markdown",
      "source": [
        "## n-gram and bag of words"
      ],
      "metadata": {
        "id": "wJCNHNqvdIy1"
      }
    },
    {
      "cell_type": "code",
      "source": [
        "from sklearn.feature_extraction.text import CountVectorizer\n",
        "\n",
        "v = CountVectorizer()\n",
        "v.fit([\"Thor Hathodawala is looking for a job\"])\n",
        "v.vocabulary_"
      ],
      "metadata": {
        "colab": {
          "base_uri": "https://localhost:8080/"
        },
        "id": "GZOM_UCLFUJc",
        "outputId": "962e15aa-9e42-464d-ae1a-41d5dcfd3090"
      },
      "execution_count": 26,
      "outputs": [
        {
          "output_type": "execute_result",
          "data": {
            "text/plain": [
              "{'thor': 5, 'hathodawala': 1, 'is': 2, 'looking': 4, 'for': 0, 'job': 3}"
            ]
          },
          "metadata": {},
          "execution_count": 26
        }
      ]
    },
    {
      "cell_type": "code",
      "source": [
        "v = CountVectorizer(ngram_range=(1,2))\n",
        "v.fit([\"Thor Hathodawala is looking for a job\"])\n",
        "v.vocabulary_"
      ],
      "metadata": {
        "colab": {
          "base_uri": "https://localhost:8080/"
        },
        "id": "-_1jVjykd9f9",
        "outputId": "7ad17a78-fd99-4e00-8a63-af00b80a401e"
      },
      "execution_count": 27,
      "outputs": [
        {
          "output_type": "execute_result",
          "data": {
            "text/plain": [
              "{'thor': 9,\n",
              " 'hathodawala': 2,\n",
              " 'is': 4,\n",
              " 'looking': 7,\n",
              " 'for': 0,\n",
              " 'job': 6,\n",
              " 'thor hathodawala': 10,\n",
              " 'hathodawala is': 3,\n",
              " 'is looking': 5,\n",
              " 'looking for': 8,\n",
              " 'for job': 1}"
            ]
          },
          "metadata": {},
          "execution_count": 27
        }
      ]
    },
    {
      "cell_type": "code",
      "source": [
        "v = CountVectorizer(ngram_range=(1,3))\n",
        "v.fit([\"Thor Hathodawala is looking for a job\"])\n",
        "v.vocabulary_"
      ],
      "metadata": {
        "colab": {
          "base_uri": "https://localhost:8080/"
        },
        "id": "ximAR535eAYQ",
        "outputId": "08f6b82d-a794-4fab-9ccf-6d011abcc1e5"
      },
      "execution_count": 28,
      "outputs": [
        {
          "output_type": "execute_result",
          "data": {
            "text/plain": [
              "{'thor': 12,\n",
              " 'hathodawala': 2,\n",
              " 'is': 5,\n",
              " 'looking': 9,\n",
              " 'for': 0,\n",
              " 'job': 8,\n",
              " 'thor hathodawala': 13,\n",
              " 'hathodawala is': 3,\n",
              " 'is looking': 6,\n",
              " 'looking for': 10,\n",
              " 'for job': 1,\n",
              " 'thor hathodawala is': 14,\n",
              " 'hathodawala is looking': 4,\n",
              " 'is looking for': 7,\n",
              " 'looking for job': 11}"
            ]
          },
          "metadata": {},
          "execution_count": 28
        }
      ]
    },
    {
      "cell_type": "code",
      "source": [
        "corpus = [\n",
        "    \"Thor ate pizza\",\n",
        "    \"Loki is tall\",\n",
        "    \"Loki is eating pizza\"\n",
        "]"
      ],
      "metadata": {
        "id": "uUaxpMjoeDcJ"
      },
      "execution_count": 29,
      "outputs": []
    },
    {
      "cell_type": "code",
      "source": [
        "import spacy\n",
        "\n",
        "# load english language model and create nlp object from it\n",
        "nlp = spacy.load(\"en_core_web_sm\")\n",
        "\n",
        "def preprocess(text):\n",
        "    # remove stop words and lemmatize the text\n",
        "    doc = nlp(text)\n",
        "    filtered_tokens = []\n",
        "    for token in doc:\n",
        "        if token.is_stop or token.is_punct:\n",
        "            continue\n",
        "        filtered_tokens.append(token.lemma_)\n",
        "\n",
        "    return \" \".join(filtered_tokens)"
      ],
      "metadata": {
        "id": "bUHPwfrveIbp"
      },
      "execution_count": 30,
      "outputs": []
    },
    {
      "cell_type": "code",
      "source": [
        "preprocess(\"Thor ate pizza\")"
      ],
      "metadata": {
        "colab": {
          "base_uri": "https://localhost:8080/",
          "height": 36
        },
        "id": "1ah_cTIXeLW_",
        "outputId": "8a425807-bc65-447b-db76-598cea2bb513"
      },
      "execution_count": 31,
      "outputs": [
        {
          "output_type": "execute_result",
          "data": {
            "text/plain": [
              "'thor eat pizza'"
            ],
            "application/vnd.google.colaboratory.intrinsic+json": {
              "type": "string"
            }
          },
          "metadata": {},
          "execution_count": 31
        }
      ]
    },
    {
      "cell_type": "code",
      "source": [
        "preprocess(\"Loki is eating pizza\")"
      ],
      "metadata": {
        "colab": {
          "base_uri": "https://localhost:8080/",
          "height": 36
        },
        "id": "5vf1E7E3ePJW",
        "outputId": "1b7b80fc-45dd-49dd-8aa8-d86a3302fb29"
      },
      "execution_count": 32,
      "outputs": [
        {
          "output_type": "execute_result",
          "data": {
            "text/plain": [
              "'Loki eat pizza'"
            ],
            "application/vnd.google.colaboratory.intrinsic+json": {
              "type": "string"
            }
          },
          "metadata": {},
          "execution_count": 32
        }
      ]
    },
    {
      "cell_type": "code",
      "source": [
        "corpus_processed = [\n",
        "    preprocess(text) for text in corpus\n",
        "]\n",
        "corpus_processed"
      ],
      "metadata": {
        "colab": {
          "base_uri": "https://localhost:8080/"
        },
        "id": "mp-zOmXqeRMo",
        "outputId": "7b6f26a4-5f17-4eba-fd86-9f95d00c26b6"
      },
      "execution_count": 33,
      "outputs": [
        {
          "output_type": "execute_result",
          "data": {
            "text/plain": [
              "['thor eat pizza', 'Loki tall', 'Loki eat pizza']"
            ]
          },
          "metadata": {},
          "execution_count": 33
        }
      ]
    },
    {
      "cell_type": "code",
      "source": [
        "v = CountVectorizer(ngram_range=(1,2))\n",
        "v.fit(corpus_processed)\n",
        "v.vocabulary_"
      ],
      "metadata": {
        "colab": {
          "base_uri": "https://localhost:8080/"
        },
        "id": "79i1JXO0eUNj",
        "outputId": "dc8da181-7516-4d14-f439-22b1cf00b3a3"
      },
      "execution_count": 34,
      "outputs": [
        {
          "output_type": "execute_result",
          "data": {
            "text/plain": [
              "{'thor': 7,\n",
              " 'eat': 0,\n",
              " 'pizza': 5,\n",
              " 'thor eat': 8,\n",
              " 'eat pizza': 1,\n",
              " 'loki': 2,\n",
              " 'tall': 6,\n",
              " 'loki tall': 4,\n",
              " 'loki eat': 3}"
            ]
          },
          "metadata": {},
          "execution_count": 34
        }
      ]
    },
    {
      "cell_type": "code",
      "source": [
        "v.transform([\"Hulk eat pizza\"]).toarray()"
      ],
      "metadata": {
        "colab": {
          "base_uri": "https://localhost:8080/"
        },
        "id": "Pxs30qjmelGy",
        "outputId": "5a269780-1c65-4d74-a1e5-a6b3fdf05bfe"
      },
      "execution_count": 35,
      "outputs": [
        {
          "output_type": "execute_result",
          "data": {
            "text/plain": [
              "array([[1, 1, 0, 0, 0, 1, 0, 0, 0]])"
            ]
          },
          "metadata": {},
          "execution_count": 35
        }
      ]
    },
    {
      "cell_type": "code",
      "source": [
        "import pandas as pd\n",
        "\n",
        "df = pd.read_json('https://raw.githubusercontent.com/codebasics/nlp-tutorials/main/11_bag_of_n_grams/news_dataset.json')\n",
        "print(df.shape)\n",
        "\n",
        "df.head(4)"
      ],
      "metadata": {
        "colab": {
          "base_uri": "https://localhost:8080/",
          "height": 192
        },
        "id": "3hohr9sYeWb3",
        "outputId": "908eac10-36ee-464b-9225-67b23ab6e9d0"
      },
      "execution_count": 40,
      "outputs": [
        {
          "output_type": "stream",
          "name": "stdout",
          "text": [
            "(12695, 2)\n"
          ]
        },
        {
          "output_type": "execute_result",
          "data": {
            "text/plain": [
              "                                                text  category\n",
              "0  Watching Schrödinger's Cat Die University of C...   SCIENCE\n",
              "1     WATCH: Freaky Vortex Opens Up In Flooded Lake    SCIENCE\n",
              "2  Entrepreneurs Today Don't Need a Big Budget to...  BUSINESS\n",
              "3  These Roads Could Recharge Your Electric Car A...  BUSINESS"
            ],
            "text/html": [
              "\n",
              "  <div id=\"df-69a97006-5244-43a0-8ca5-9738d8481887\" class=\"colab-df-container\">\n",
              "    <div>\n",
              "<style scoped>\n",
              "    .dataframe tbody tr th:only-of-type {\n",
              "        vertical-align: middle;\n",
              "    }\n",
              "\n",
              "    .dataframe tbody tr th {\n",
              "        vertical-align: top;\n",
              "    }\n",
              "\n",
              "    .dataframe thead th {\n",
              "        text-align: right;\n",
              "    }\n",
              "</style>\n",
              "<table border=\"1\" class=\"dataframe\">\n",
              "  <thead>\n",
              "    <tr style=\"text-align: right;\">\n",
              "      <th></th>\n",
              "      <th>text</th>\n",
              "      <th>category</th>\n",
              "    </tr>\n",
              "  </thead>\n",
              "  <tbody>\n",
              "    <tr>\n",
              "      <th>0</th>\n",
              "      <td>Watching Schrödinger's Cat Die University of C...</td>\n",
              "      <td>SCIENCE</td>\n",
              "    </tr>\n",
              "    <tr>\n",
              "      <th>1</th>\n",
              "      <td>WATCH: Freaky Vortex Opens Up In Flooded Lake</td>\n",
              "      <td>SCIENCE</td>\n",
              "    </tr>\n",
              "    <tr>\n",
              "      <th>2</th>\n",
              "      <td>Entrepreneurs Today Don't Need a Big Budget to...</td>\n",
              "      <td>BUSINESS</td>\n",
              "    </tr>\n",
              "    <tr>\n",
              "      <th>3</th>\n",
              "      <td>These Roads Could Recharge Your Electric Car A...</td>\n",
              "      <td>BUSINESS</td>\n",
              "    </tr>\n",
              "  </tbody>\n",
              "</table>\n",
              "</div>\n",
              "    <div class=\"colab-df-buttons\">\n",
              "\n",
              "  <div class=\"colab-df-container\">\n",
              "    <button class=\"colab-df-convert\" onclick=\"convertToInteractive('df-69a97006-5244-43a0-8ca5-9738d8481887')\"\n",
              "            title=\"Convert this dataframe to an interactive table.\"\n",
              "            style=\"display:none;\">\n",
              "\n",
              "  <svg xmlns=\"http://www.w3.org/2000/svg\" height=\"24px\" viewBox=\"0 -960 960 960\">\n",
              "    <path d=\"M120-120v-720h720v720H120Zm60-500h600v-160H180v160Zm220 220h160v-160H400v160Zm0 220h160v-160H400v160ZM180-400h160v-160H180v160Zm440 0h160v-160H620v160ZM180-180h160v-160H180v160Zm440 0h160v-160H620v160Z\"/>\n",
              "  </svg>\n",
              "    </button>\n",
              "\n",
              "  <style>\n",
              "    .colab-df-container {\n",
              "      display:flex;\n",
              "      gap: 12px;\n",
              "    }\n",
              "\n",
              "    .colab-df-convert {\n",
              "      background-color: #E8F0FE;\n",
              "      border: none;\n",
              "      border-radius: 50%;\n",
              "      cursor: pointer;\n",
              "      display: none;\n",
              "      fill: #1967D2;\n",
              "      height: 32px;\n",
              "      padding: 0 0 0 0;\n",
              "      width: 32px;\n",
              "    }\n",
              "\n",
              "    .colab-df-convert:hover {\n",
              "      background-color: #E2EBFA;\n",
              "      box-shadow: 0px 1px 2px rgba(60, 64, 67, 0.3), 0px 1px 3px 1px rgba(60, 64, 67, 0.15);\n",
              "      fill: #174EA6;\n",
              "    }\n",
              "\n",
              "    .colab-df-buttons div {\n",
              "      margin-bottom: 4px;\n",
              "    }\n",
              "\n",
              "    [theme=dark] .colab-df-convert {\n",
              "      background-color: #3B4455;\n",
              "      fill: #D2E3FC;\n",
              "    }\n",
              "\n",
              "    [theme=dark] .colab-df-convert:hover {\n",
              "      background-color: #434B5C;\n",
              "      box-shadow: 0px 1px 3px 1px rgba(0, 0, 0, 0.15);\n",
              "      filter: drop-shadow(0px 1px 2px rgba(0, 0, 0, 0.3));\n",
              "      fill: #FFFFFF;\n",
              "    }\n",
              "  </style>\n",
              "\n",
              "    <script>\n",
              "      const buttonEl =\n",
              "        document.querySelector('#df-69a97006-5244-43a0-8ca5-9738d8481887 button.colab-df-convert');\n",
              "      buttonEl.style.display =\n",
              "        google.colab.kernel.accessAllowed ? 'block' : 'none';\n",
              "\n",
              "      async function convertToInteractive(key) {\n",
              "        const element = document.querySelector('#df-69a97006-5244-43a0-8ca5-9738d8481887');\n",
              "        const dataTable =\n",
              "          await google.colab.kernel.invokeFunction('convertToInteractive',\n",
              "                                                    [key], {});\n",
              "        if (!dataTable) return;\n",
              "\n",
              "        const docLinkHtml = 'Like what you see? Visit the ' +\n",
              "          '<a target=\"_blank\" href=https://colab.research.google.com/notebooks/data_table.ipynb>data table notebook</a>'\n",
              "          + ' to learn more about interactive tables.';\n",
              "        element.innerHTML = '';\n",
              "        dataTable['output_type'] = 'display_data';\n",
              "        await google.colab.output.renderOutput(dataTable, element);\n",
              "        const docLink = document.createElement('div');\n",
              "        docLink.innerHTML = docLinkHtml;\n",
              "        element.appendChild(docLink);\n",
              "      }\n",
              "    </script>\n",
              "  </div>\n",
              "\n",
              "\n",
              "<div id=\"df-e23b6e87-a408-4e2a-b31f-6b89dde179d1\">\n",
              "  <button class=\"colab-df-quickchart\" onclick=\"quickchart('df-e23b6e87-a408-4e2a-b31f-6b89dde179d1')\"\n",
              "            title=\"Suggest charts\"\n",
              "            style=\"display:none;\">\n",
              "\n",
              "<svg xmlns=\"http://www.w3.org/2000/svg\" height=\"24px\"viewBox=\"0 0 24 24\"\n",
              "     width=\"24px\">\n",
              "    <g>\n",
              "        <path d=\"M19 3H5c-1.1 0-2 .9-2 2v14c0 1.1.9 2 2 2h14c1.1 0 2-.9 2-2V5c0-1.1-.9-2-2-2zM9 17H7v-7h2v7zm4 0h-2V7h2v10zm4 0h-2v-4h2v4z\"/>\n",
              "    </g>\n",
              "</svg>\n",
              "  </button>\n",
              "\n",
              "<style>\n",
              "  .colab-df-quickchart {\n",
              "      --bg-color: #E8F0FE;\n",
              "      --fill-color: #1967D2;\n",
              "      --hover-bg-color: #E2EBFA;\n",
              "      --hover-fill-color: #174EA6;\n",
              "      --disabled-fill-color: #AAA;\n",
              "      --disabled-bg-color: #DDD;\n",
              "  }\n",
              "\n",
              "  [theme=dark] .colab-df-quickchart {\n",
              "      --bg-color: #3B4455;\n",
              "      --fill-color: #D2E3FC;\n",
              "      --hover-bg-color: #434B5C;\n",
              "      --hover-fill-color: #FFFFFF;\n",
              "      --disabled-bg-color: #3B4455;\n",
              "      --disabled-fill-color: #666;\n",
              "  }\n",
              "\n",
              "  .colab-df-quickchart {\n",
              "    background-color: var(--bg-color);\n",
              "    border: none;\n",
              "    border-radius: 50%;\n",
              "    cursor: pointer;\n",
              "    display: none;\n",
              "    fill: var(--fill-color);\n",
              "    height: 32px;\n",
              "    padding: 0;\n",
              "    width: 32px;\n",
              "  }\n",
              "\n",
              "  .colab-df-quickchart:hover {\n",
              "    background-color: var(--hover-bg-color);\n",
              "    box-shadow: 0 1px 2px rgba(60, 64, 67, 0.3), 0 1px 3px 1px rgba(60, 64, 67, 0.15);\n",
              "    fill: var(--button-hover-fill-color);\n",
              "  }\n",
              "\n",
              "  .colab-df-quickchart-complete:disabled,\n",
              "  .colab-df-quickchart-complete:disabled:hover {\n",
              "    background-color: var(--disabled-bg-color);\n",
              "    fill: var(--disabled-fill-color);\n",
              "    box-shadow: none;\n",
              "  }\n",
              "\n",
              "  .colab-df-spinner {\n",
              "    border: 2px solid var(--fill-color);\n",
              "    border-color: transparent;\n",
              "    border-bottom-color: var(--fill-color);\n",
              "    animation:\n",
              "      spin 1s steps(1) infinite;\n",
              "  }\n",
              "\n",
              "  @keyframes spin {\n",
              "    0% {\n",
              "      border-color: transparent;\n",
              "      border-bottom-color: var(--fill-color);\n",
              "      border-left-color: var(--fill-color);\n",
              "    }\n",
              "    20% {\n",
              "      border-color: transparent;\n",
              "      border-left-color: var(--fill-color);\n",
              "      border-top-color: var(--fill-color);\n",
              "    }\n",
              "    30% {\n",
              "      border-color: transparent;\n",
              "      border-left-color: var(--fill-color);\n",
              "      border-top-color: var(--fill-color);\n",
              "      border-right-color: var(--fill-color);\n",
              "    }\n",
              "    40% {\n",
              "      border-color: transparent;\n",
              "      border-right-color: var(--fill-color);\n",
              "      border-top-color: var(--fill-color);\n",
              "    }\n",
              "    60% {\n",
              "      border-color: transparent;\n",
              "      border-right-color: var(--fill-color);\n",
              "    }\n",
              "    80% {\n",
              "      border-color: transparent;\n",
              "      border-right-color: var(--fill-color);\n",
              "      border-bottom-color: var(--fill-color);\n",
              "    }\n",
              "    90% {\n",
              "      border-color: transparent;\n",
              "      border-bottom-color: var(--fill-color);\n",
              "    }\n",
              "  }\n",
              "</style>\n",
              "\n",
              "  <script>\n",
              "    async function quickchart(key) {\n",
              "      const quickchartButtonEl =\n",
              "        document.querySelector('#' + key + ' button');\n",
              "      quickchartButtonEl.disabled = true;  // To prevent multiple clicks.\n",
              "      quickchartButtonEl.classList.add('colab-df-spinner');\n",
              "      try {\n",
              "        const charts = await google.colab.kernel.invokeFunction(\n",
              "            'suggestCharts', [key], {});\n",
              "      } catch (error) {\n",
              "        console.error('Error during call to suggestCharts:', error);\n",
              "      }\n",
              "      quickchartButtonEl.classList.remove('colab-df-spinner');\n",
              "      quickchartButtonEl.classList.add('colab-df-quickchart-complete');\n",
              "    }\n",
              "    (() => {\n",
              "      let quickchartButtonEl =\n",
              "        document.querySelector('#df-e23b6e87-a408-4e2a-b31f-6b89dde179d1 button');\n",
              "      quickchartButtonEl.style.display =\n",
              "        google.colab.kernel.accessAllowed ? 'block' : 'none';\n",
              "    })();\n",
              "  </script>\n",
              "</div>\n",
              "\n",
              "    </div>\n",
              "  </div>\n"
            ],
            "application/vnd.google.colaboratory.intrinsic+json": {
              "type": "dataframe",
              "variable_name": "df",
              "summary": "{\n  \"name\": \"df\",\n  \"rows\": 12695,\n  \"fields\": [\n    {\n      \"column\": \"text\",\n      \"properties\": {\n        \"dtype\": \"string\",\n        \"num_unique_values\": 12689,\n        \"samples\": [\n          \"Whales Are Mysteriously Dying In Alaska \\\"We do not yet know the cause of these strandings.\\\"\",\n          \"How Police Failed To Stop A Former NFL Star's Rape Spree \",\n          \"Freaky Non-Newtonian Fluid Dances To The Beat \"\n        ],\n        \"semantic_type\": \"\",\n        \"description\": \"\"\n      }\n    },\n    {\n      \"column\": \"category\",\n      \"properties\": {\n        \"dtype\": \"category\",\n        \"num_unique_values\": 4,\n        \"samples\": [\n          \"BUSINESS\",\n          \"SPORTS\",\n          \"SCIENCE\"\n        ],\n        \"semantic_type\": \"\",\n        \"description\": \"\"\n      }\n    }\n  ]\n}"
            }
          },
          "metadata": {},
          "execution_count": 40
        }
      ]
    },
    {
      "cell_type": "code",
      "source": [
        "min_samples = 1381 # we have these many SCIENCE articles and SCIENCE is our minority class\n",
        "\n",
        "\n",
        "df_business = df[df.category==\"BUSINESS\"].sample(min_samples, random_state=2022)\n",
        "df_sports = df[df.category==\"SPORTS\"].sample(min_samples, random_state=2022)\n",
        "df_crime = df[df.category==\"CRIME\"].sample(min_samples, random_state=2022)\n",
        "df_science = df[df.category==\"SCIENCE\"].sample(min_samples, random_state=2022)\n",
        "\n",
        "df_balanced = pd.concat([df_business,df_sports,df_crime,df_science],axis=0)\n",
        "df_balanced.category.value_counts()"
      ],
      "metadata": {
        "colab": {
          "base_uri": "https://localhost:8080/"
        },
        "id": "EbLNdSmxfi0k",
        "outputId": "89a17b05-7612-4fd3-e58f-d0788732ebfa"
      },
      "execution_count": 42,
      "outputs": [
        {
          "output_type": "execute_result",
          "data": {
            "text/plain": [
              "category\n",
              "BUSINESS    1381\n",
              "SPORTS      1381\n",
              "CRIME       1381\n",
              "SCIENCE     1381\n",
              "Name: count, dtype: int64"
            ]
          },
          "metadata": {},
          "execution_count": 42
        }
      ]
    },
    {
      "cell_type": "code",
      "source": [
        "target = {'BUSINESS': 0, 'SPORTS': 1, 'CRIME': 2, 'SCIENCE': 3}\n",
        "\n",
        "df_balanced['category_num'] = df_balanced['category'].map({\n",
        "    'BUSINESS': 0,\n",
        "    'SPORTS': 1,\n",
        "    'CRIME': 2,\n",
        "    'SCIENCE': 3\n",
        "})"
      ],
      "metadata": {
        "id": "bftURQ2VetSt"
      },
      "execution_count": 43,
      "outputs": []
    },
    {
      "cell_type": "code",
      "source": [
        "from sklearn.model_selection import train_test_split\n",
        "\n",
        "X_train, X_test, y_train, y_test = train_test_split(\n",
        "    df_balanced.text,\n",
        "    df_balanced.category_num,\n",
        "    test_size=0.2, # 20% samples will go to test dataset\n",
        "    random_state=2022,\n",
        "    stratify=df_balanced.category_num\n",
        ")"
      ],
      "metadata": {
        "id": "vPlIg7NhfhgK"
      },
      "execution_count": 44,
      "outputs": []
    },
    {
      "cell_type": "code",
      "source": [
        "y_train.value_counts()"
      ],
      "metadata": {
        "colab": {
          "base_uri": "https://localhost:8080/"
        },
        "id": "kPL4TdSXfrEB",
        "outputId": "2a62147e-e91b-4d93-99f2-33a848fc549a"
      },
      "execution_count": 45,
      "outputs": [
        {
          "output_type": "execute_result",
          "data": {
            "text/plain": [
              "category_num\n",
              "3    1105\n",
              "2    1105\n",
              "0    1105\n",
              "1    1104\n",
              "Name: count, dtype: int64"
            ]
          },
          "metadata": {},
          "execution_count": 45
        }
      ]
    },
    {
      "cell_type": "markdown",
      "source": [
        "1gram"
      ],
      "metadata": {
        "id": "9QoeKzHDgJkZ"
      }
    },
    {
      "cell_type": "code",
      "source": [
        "from sklearn.naive_bayes import MultinomialNB\n",
        "from sklearn.pipeline import Pipeline\n",
        "from sklearn.metrics import classification_report\n",
        "\n",
        "#1. create a pipeline object\n",
        "clf = Pipeline([\n",
        "     ('vectorizer_bow', CountVectorizer(ngram_range = (1, 1))),        #using the ngram_range parameter\n",
        "     ('Multi NB', MultinomialNB())\n",
        "])\n",
        "\n",
        "#2. fit with X_train and y_train\n",
        "clf.fit(X_train, y_train)\n",
        "\n",
        "\n",
        "#3. get the predictions for X_test and store it in y_pred\n",
        "y_pred = clf.predict(X_test)\n",
        "\n",
        "\n",
        "#4. print the classfication report\n",
        "print(classification_report(y_test, y_pred))"
      ],
      "metadata": {
        "colab": {
          "base_uri": "https://localhost:8080/"
        },
        "id": "EwQz2ElKfuk3",
        "outputId": "c19297fb-e561-48a4-8c55-77dcd31561cc"
      },
      "execution_count": 46,
      "outputs": [
        {
          "output_type": "stream",
          "name": "stdout",
          "text": [
            "              precision    recall  f1-score   support\n",
            "\n",
            "           0       0.75      0.87      0.81       276\n",
            "           1       0.93      0.80      0.86       277\n",
            "           2       0.83      0.90      0.86       276\n",
            "           3       0.90      0.80      0.85       276\n",
            "\n",
            "    accuracy                           0.84      1105\n",
            "   macro avg       0.85      0.84      0.84      1105\n",
            "weighted avg       0.85      0.84      0.84      1105\n",
            "\n"
          ]
        }
      ]
    },
    {
      "cell_type": "markdown",
      "source": [
        "1gram + 2gram"
      ],
      "metadata": {
        "id": "tkqT_K5VgHzF"
      }
    },
    {
      "cell_type": "code",
      "source": [
        "#1. create a pipeline object\n",
        "clf = Pipeline([\n",
        "    ('vectorizer_1_2_gram', CountVectorizer(ngram_range = (1, 2))),        #using the ngram_range parameter\n",
        "     ('Multi NB', MultinomialNB())\n",
        "])\n",
        "\n",
        "#2. fit with X_train and y_train\n",
        "clf.fit(X_train, y_train)\n",
        "\n",
        "\n",
        "#3. get the predictions for X_test and store it in y_pred\n",
        "y_pred = clf.predict(X_test)\n",
        "\n",
        "\n",
        "#4. print the classfication report\n",
        "print(classification_report(y_test, y_pred))"
      ],
      "metadata": {
        "colab": {
          "base_uri": "https://localhost:8080/"
        },
        "id": "aqPSpzWHfw_P",
        "outputId": "8b6282ca-dee4-46f0-b6df-45bd1f1c91a9"
      },
      "execution_count": 47,
      "outputs": [
        {
          "output_type": "stream",
          "name": "stdout",
          "text": [
            "              precision    recall  f1-score   support\n",
            "\n",
            "           0       0.69      0.90      0.78       276\n",
            "           1       0.95      0.74      0.83       277\n",
            "           2       0.82      0.88      0.85       276\n",
            "           3       0.92      0.78      0.84       276\n",
            "\n",
            "    accuracy                           0.82      1105\n",
            "   macro avg       0.85      0.82      0.83      1105\n",
            "weighted avg       0.85      0.82      0.83      1105\n",
            "\n"
          ]
        }
      ]
    },
    {
      "cell_type": "markdown",
      "source": [
        "1gram + 2gram + 3gram"
      ],
      "metadata": {
        "id": "y9jU4e23gBz2"
      }
    },
    {
      "cell_type": "code",
      "source": [
        "#1. create a pipeline object\n",
        "clf = Pipeline([\n",
        "    ('vectorizer_1_3_grams', CountVectorizer(ngram_range = (1, 3))),        #using the ngram_range parameter\n",
        "     ('Multi NB', MultinomialNB())\n",
        "])\n",
        "\n",
        "#2. fit with X_train and y_train\n",
        "clf.fit(X_train, y_train)\n",
        "\n",
        "\n",
        "#3. get the predictions for X_test and store it in y_pred\n",
        "y_pred = clf.predict(X_test)\n",
        "\n",
        "\n",
        "#4. print the classfication report\n",
        "print(classification_report(y_test, y_pred))"
      ],
      "metadata": {
        "colab": {
          "base_uri": "https://localhost:8080/"
        },
        "id": "Pgjs_DTsf3Tc",
        "outputId": "b7dfa516-cf1f-4a22-f871-3283988a35fe"
      },
      "execution_count": 48,
      "outputs": [
        {
          "output_type": "stream",
          "name": "stdout",
          "text": [
            "              precision    recall  f1-score   support\n",
            "\n",
            "           0       0.67      0.91      0.77       276\n",
            "           1       0.96      0.73      0.83       277\n",
            "           2       0.83      0.87      0.85       276\n",
            "           3       0.93      0.76      0.83       276\n",
            "\n",
            "    accuracy                           0.82      1105\n",
            "   macro avg       0.84      0.82      0.82      1105\n",
            "weighted avg       0.84      0.82      0.82      1105\n",
            "\n"
          ]
        }
      ]
    },
    {
      "cell_type": "markdown",
      "source": [
        "apply preprocess and compare results"
      ],
      "metadata": {
        "id": "NZgkL1Zlf9sj"
      }
    },
    {
      "cell_type": "code",
      "source": [
        "df_balanced['preprocessed_txt'] = df_balanced['text'].apply(preprocess)"
      ],
      "metadata": {
        "id": "NpWAtbKgf59y"
      },
      "execution_count": 49,
      "outputs": []
    },
    {
      "cell_type": "code",
      "source": [
        "df_balanced.head()"
      ],
      "metadata": {
        "colab": {
          "base_uri": "https://localhost:8080/",
          "height": 206
        },
        "id": "NfRvoLMJiNCN",
        "outputId": "db3b9b1f-f22f-4883-8bbd-05c9301303ca"
      },
      "execution_count": 53,
      "outputs": [
        {
          "output_type": "execute_result",
          "data": {
            "text/plain": [
              "                                                    text  category  \\\n",
              "11967  GCC Business Leaders Remain Confident in the F...  BUSINESS   \n",
              "2912   From the Other Side; an Honest Review from Emp...  BUSINESS   \n",
              "3408   Mike McDerment, CEO of FreshBooks, Talks About...  BUSINESS   \n",
              "502    How to Market Your Business While Traveling th...  BUSINESS   \n",
              "5279   How to Leverage Intuition in Decision-making I...  BUSINESS   \n",
              "\n",
              "       category_num                                   preprocessed_txt  \n",
              "11967             0  GCC Business Leaders remain Confident Face Reg...  \n",
              "2912              0  Honest Review employee wake morning love impor...  \n",
              "3408              0  Mike McDerment ceo FreshBooks Talks give build...  \n",
              "502               0  market business travel World recently amazing ...  \n",
              "5279              0  Leverage intuition decision making feel safe r...  "
            ],
            "text/html": [
              "\n",
              "  <div id=\"df-18f20497-2d0d-4a97-9783-530933b72951\" class=\"colab-df-container\">\n",
              "    <div>\n",
              "<style scoped>\n",
              "    .dataframe tbody tr th:only-of-type {\n",
              "        vertical-align: middle;\n",
              "    }\n",
              "\n",
              "    .dataframe tbody tr th {\n",
              "        vertical-align: top;\n",
              "    }\n",
              "\n",
              "    .dataframe thead th {\n",
              "        text-align: right;\n",
              "    }\n",
              "</style>\n",
              "<table border=\"1\" class=\"dataframe\">\n",
              "  <thead>\n",
              "    <tr style=\"text-align: right;\">\n",
              "      <th></th>\n",
              "      <th>text</th>\n",
              "      <th>category</th>\n",
              "      <th>category_num</th>\n",
              "      <th>preprocessed_txt</th>\n",
              "    </tr>\n",
              "  </thead>\n",
              "  <tbody>\n",
              "    <tr>\n",
              "      <th>11967</th>\n",
              "      <td>GCC Business Leaders Remain Confident in the F...</td>\n",
              "      <td>BUSINESS</td>\n",
              "      <td>0</td>\n",
              "      <td>GCC Business Leaders remain Confident Face Reg...</td>\n",
              "    </tr>\n",
              "    <tr>\n",
              "      <th>2912</th>\n",
              "      <td>From the Other Side; an Honest Review from Emp...</td>\n",
              "      <td>BUSINESS</td>\n",
              "      <td>0</td>\n",
              "      <td>Honest Review employee wake morning love impor...</td>\n",
              "    </tr>\n",
              "    <tr>\n",
              "      <th>3408</th>\n",
              "      <td>Mike McDerment, CEO of FreshBooks, Talks About...</td>\n",
              "      <td>BUSINESS</td>\n",
              "      <td>0</td>\n",
              "      <td>Mike McDerment ceo FreshBooks Talks give build...</td>\n",
              "    </tr>\n",
              "    <tr>\n",
              "      <th>502</th>\n",
              "      <td>How to Market Your Business While Traveling th...</td>\n",
              "      <td>BUSINESS</td>\n",
              "      <td>0</td>\n",
              "      <td>market business travel World recently amazing ...</td>\n",
              "    </tr>\n",
              "    <tr>\n",
              "      <th>5279</th>\n",
              "      <td>How to Leverage Intuition in Decision-making I...</td>\n",
              "      <td>BUSINESS</td>\n",
              "      <td>0</td>\n",
              "      <td>Leverage intuition decision making feel safe r...</td>\n",
              "    </tr>\n",
              "  </tbody>\n",
              "</table>\n",
              "</div>\n",
              "    <div class=\"colab-df-buttons\">\n",
              "\n",
              "  <div class=\"colab-df-container\">\n",
              "    <button class=\"colab-df-convert\" onclick=\"convertToInteractive('df-18f20497-2d0d-4a97-9783-530933b72951')\"\n",
              "            title=\"Convert this dataframe to an interactive table.\"\n",
              "            style=\"display:none;\">\n",
              "\n",
              "  <svg xmlns=\"http://www.w3.org/2000/svg\" height=\"24px\" viewBox=\"0 -960 960 960\">\n",
              "    <path d=\"M120-120v-720h720v720H120Zm60-500h600v-160H180v160Zm220 220h160v-160H400v160Zm0 220h160v-160H400v160ZM180-400h160v-160H180v160Zm440 0h160v-160H620v160ZM180-180h160v-160H180v160Zm440 0h160v-160H620v160Z\"/>\n",
              "  </svg>\n",
              "    </button>\n",
              "\n",
              "  <style>\n",
              "    .colab-df-container {\n",
              "      display:flex;\n",
              "      gap: 12px;\n",
              "    }\n",
              "\n",
              "    .colab-df-convert {\n",
              "      background-color: #E8F0FE;\n",
              "      border: none;\n",
              "      border-radius: 50%;\n",
              "      cursor: pointer;\n",
              "      display: none;\n",
              "      fill: #1967D2;\n",
              "      height: 32px;\n",
              "      padding: 0 0 0 0;\n",
              "      width: 32px;\n",
              "    }\n",
              "\n",
              "    .colab-df-convert:hover {\n",
              "      background-color: #E2EBFA;\n",
              "      box-shadow: 0px 1px 2px rgba(60, 64, 67, 0.3), 0px 1px 3px 1px rgba(60, 64, 67, 0.15);\n",
              "      fill: #174EA6;\n",
              "    }\n",
              "\n",
              "    .colab-df-buttons div {\n",
              "      margin-bottom: 4px;\n",
              "    }\n",
              "\n",
              "    [theme=dark] .colab-df-convert {\n",
              "      background-color: #3B4455;\n",
              "      fill: #D2E3FC;\n",
              "    }\n",
              "\n",
              "    [theme=dark] .colab-df-convert:hover {\n",
              "      background-color: #434B5C;\n",
              "      box-shadow: 0px 1px 3px 1px rgba(0, 0, 0, 0.15);\n",
              "      filter: drop-shadow(0px 1px 2px rgba(0, 0, 0, 0.3));\n",
              "      fill: #FFFFFF;\n",
              "    }\n",
              "  </style>\n",
              "\n",
              "    <script>\n",
              "      const buttonEl =\n",
              "        document.querySelector('#df-18f20497-2d0d-4a97-9783-530933b72951 button.colab-df-convert');\n",
              "      buttonEl.style.display =\n",
              "        google.colab.kernel.accessAllowed ? 'block' : 'none';\n",
              "\n",
              "      async function convertToInteractive(key) {\n",
              "        const element = document.querySelector('#df-18f20497-2d0d-4a97-9783-530933b72951');\n",
              "        const dataTable =\n",
              "          await google.colab.kernel.invokeFunction('convertToInteractive',\n",
              "                                                    [key], {});\n",
              "        if (!dataTable) return;\n",
              "\n",
              "        const docLinkHtml = 'Like what you see? Visit the ' +\n",
              "          '<a target=\"_blank\" href=https://colab.research.google.com/notebooks/data_table.ipynb>data table notebook</a>'\n",
              "          + ' to learn more about interactive tables.';\n",
              "        element.innerHTML = '';\n",
              "        dataTable['output_type'] = 'display_data';\n",
              "        await google.colab.output.renderOutput(dataTable, element);\n",
              "        const docLink = document.createElement('div');\n",
              "        docLink.innerHTML = docLinkHtml;\n",
              "        element.appendChild(docLink);\n",
              "      }\n",
              "    </script>\n",
              "  </div>\n",
              "\n",
              "\n",
              "<div id=\"df-16055c74-a4e4-43b5-a882-a6705a3659f8\">\n",
              "  <button class=\"colab-df-quickchart\" onclick=\"quickchart('df-16055c74-a4e4-43b5-a882-a6705a3659f8')\"\n",
              "            title=\"Suggest charts\"\n",
              "            style=\"display:none;\">\n",
              "\n",
              "<svg xmlns=\"http://www.w3.org/2000/svg\" height=\"24px\"viewBox=\"0 0 24 24\"\n",
              "     width=\"24px\">\n",
              "    <g>\n",
              "        <path d=\"M19 3H5c-1.1 0-2 .9-2 2v14c0 1.1.9 2 2 2h14c1.1 0 2-.9 2-2V5c0-1.1-.9-2-2-2zM9 17H7v-7h2v7zm4 0h-2V7h2v10zm4 0h-2v-4h2v4z\"/>\n",
              "    </g>\n",
              "</svg>\n",
              "  </button>\n",
              "\n",
              "<style>\n",
              "  .colab-df-quickchart {\n",
              "      --bg-color: #E8F0FE;\n",
              "      --fill-color: #1967D2;\n",
              "      --hover-bg-color: #E2EBFA;\n",
              "      --hover-fill-color: #174EA6;\n",
              "      --disabled-fill-color: #AAA;\n",
              "      --disabled-bg-color: #DDD;\n",
              "  }\n",
              "\n",
              "  [theme=dark] .colab-df-quickchart {\n",
              "      --bg-color: #3B4455;\n",
              "      --fill-color: #D2E3FC;\n",
              "      --hover-bg-color: #434B5C;\n",
              "      --hover-fill-color: #FFFFFF;\n",
              "      --disabled-bg-color: #3B4455;\n",
              "      --disabled-fill-color: #666;\n",
              "  }\n",
              "\n",
              "  .colab-df-quickchart {\n",
              "    background-color: var(--bg-color);\n",
              "    border: none;\n",
              "    border-radius: 50%;\n",
              "    cursor: pointer;\n",
              "    display: none;\n",
              "    fill: var(--fill-color);\n",
              "    height: 32px;\n",
              "    padding: 0;\n",
              "    width: 32px;\n",
              "  }\n",
              "\n",
              "  .colab-df-quickchart:hover {\n",
              "    background-color: var(--hover-bg-color);\n",
              "    box-shadow: 0 1px 2px rgba(60, 64, 67, 0.3), 0 1px 3px 1px rgba(60, 64, 67, 0.15);\n",
              "    fill: var(--button-hover-fill-color);\n",
              "  }\n",
              "\n",
              "  .colab-df-quickchart-complete:disabled,\n",
              "  .colab-df-quickchart-complete:disabled:hover {\n",
              "    background-color: var(--disabled-bg-color);\n",
              "    fill: var(--disabled-fill-color);\n",
              "    box-shadow: none;\n",
              "  }\n",
              "\n",
              "  .colab-df-spinner {\n",
              "    border: 2px solid var(--fill-color);\n",
              "    border-color: transparent;\n",
              "    border-bottom-color: var(--fill-color);\n",
              "    animation:\n",
              "      spin 1s steps(1) infinite;\n",
              "  }\n",
              "\n",
              "  @keyframes spin {\n",
              "    0% {\n",
              "      border-color: transparent;\n",
              "      border-bottom-color: var(--fill-color);\n",
              "      border-left-color: var(--fill-color);\n",
              "    }\n",
              "    20% {\n",
              "      border-color: transparent;\n",
              "      border-left-color: var(--fill-color);\n",
              "      border-top-color: var(--fill-color);\n",
              "    }\n",
              "    30% {\n",
              "      border-color: transparent;\n",
              "      border-left-color: var(--fill-color);\n",
              "      border-top-color: var(--fill-color);\n",
              "      border-right-color: var(--fill-color);\n",
              "    }\n",
              "    40% {\n",
              "      border-color: transparent;\n",
              "      border-right-color: var(--fill-color);\n",
              "      border-top-color: var(--fill-color);\n",
              "    }\n",
              "    60% {\n",
              "      border-color: transparent;\n",
              "      border-right-color: var(--fill-color);\n",
              "    }\n",
              "    80% {\n",
              "      border-color: transparent;\n",
              "      border-right-color: var(--fill-color);\n",
              "      border-bottom-color: var(--fill-color);\n",
              "    }\n",
              "    90% {\n",
              "      border-color: transparent;\n",
              "      border-bottom-color: var(--fill-color);\n",
              "    }\n",
              "  }\n",
              "</style>\n",
              "\n",
              "  <script>\n",
              "    async function quickchart(key) {\n",
              "      const quickchartButtonEl =\n",
              "        document.querySelector('#' + key + ' button');\n",
              "      quickchartButtonEl.disabled = true;  // To prevent multiple clicks.\n",
              "      quickchartButtonEl.classList.add('colab-df-spinner');\n",
              "      try {\n",
              "        const charts = await google.colab.kernel.invokeFunction(\n",
              "            'suggestCharts', [key], {});\n",
              "      } catch (error) {\n",
              "        console.error('Error during call to suggestCharts:', error);\n",
              "      }\n",
              "      quickchartButtonEl.classList.remove('colab-df-spinner');\n",
              "      quickchartButtonEl.classList.add('colab-df-quickchart-complete');\n",
              "    }\n",
              "    (() => {\n",
              "      let quickchartButtonEl =\n",
              "        document.querySelector('#df-16055c74-a4e4-43b5-a882-a6705a3659f8 button');\n",
              "      quickchartButtonEl.style.display =\n",
              "        google.colab.kernel.accessAllowed ? 'block' : 'none';\n",
              "    })();\n",
              "  </script>\n",
              "</div>\n",
              "\n",
              "    </div>\n",
              "  </div>\n"
            ],
            "application/vnd.google.colaboratory.intrinsic+json": {
              "type": "dataframe",
              "variable_name": "df_balanced",
              "summary": "{\n  \"name\": \"df_balanced\",\n  \"rows\": 5524,\n  \"fields\": [\n    {\n      \"column\": \"text\",\n      \"properties\": {\n        \"dtype\": \"string\",\n        \"num_unique_values\": 5523,\n        \"samples\": [\n          \"The 'LeBron James' Kid Is Back We missed you.\",\n          \"Here's How Rats End Up In Toilet Bowls Fun fact: Rats can hold their breath for up to three minutes.\",\n          \"Washington Wizards' Dynamic Backcourt Duo Of John Wall And Bradley Beal Is Making Waves \"\n        ],\n        \"semantic_type\": \"\",\n        \"description\": \"\"\n      }\n    },\n    {\n      \"column\": \"category\",\n      \"properties\": {\n        \"dtype\": \"category\",\n        \"num_unique_values\": 4,\n        \"samples\": [\n          \"SPORTS\",\n          \"SCIENCE\",\n          \"BUSINESS\"\n        ],\n        \"semantic_type\": \"\",\n        \"description\": \"\"\n      }\n    },\n    {\n      \"column\": \"category_num\",\n      \"properties\": {\n        \"dtype\": \"number\",\n        \"std\": 1,\n        \"min\": 0,\n        \"max\": 3,\n        \"num_unique_values\": 4,\n        \"samples\": [\n          1,\n          3,\n          0\n        ],\n        \"semantic_type\": \"\",\n        \"description\": \"\"\n      }\n    },\n    {\n      \"column\": \"preprocessed_txt\",\n      \"properties\": {\n        \"dtype\": \"string\",\n        \"num_unique_values\": 5523,\n        \"samples\": [\n          \"LeBron James Kid miss\",\n          \"rat End Toilet Bowls Fun fact rat hold breath minute\",\n          \"Washington Wizards Dynamic Backcourt Duo John Wall Bradley Beal make wave\"\n        ],\n        \"semantic_type\": \"\",\n        \"description\": \"\"\n      }\n    }\n  ]\n}"
            }
          },
          "metadata": {},
          "execution_count": 53
        }
      ]
    },
    {
      "cell_type": "code",
      "source": [
        "X_train, X_test, y_train, y_test = train_test_split(\n",
        "    df_balanced['preprocessed_txt'],\n",
        "    df_balanced['category_num'],\n",
        "    test_size=0.2, # 20% samples will go to test dataset\n",
        "    random_state=2022,\n",
        "    stratify=df_balanced.category_num\n",
        ")"
      ],
      "metadata": {
        "id": "we4TJ1zZh4Pt"
      },
      "execution_count": 55,
      "outputs": []
    },
    {
      "cell_type": "code",
      "source": [
        "#1. create a pipeline object\n",
        "clf = Pipeline([\n",
        "    ('vectorizer_bow', CountVectorizer(ngram_range = (1, 2))),        #using the ngram_range parameter\n",
        "    ('Multi NB', MultinomialNB())\n",
        "])\n",
        "\n",
        "#2. fit with X_train and y_train\n",
        "clf.fit(X_train, y_train)\n",
        "\n",
        "\n",
        "#3. get the predictions for X_test and store it in y_pred\n",
        "y_pred = clf.predict(X_test)\n",
        "\n",
        "\n",
        "#4. print the classfication report\n",
        "print(classification_report(y_test, y_pred))"
      ],
      "metadata": {
        "colab": {
          "base_uri": "https://localhost:8080/"
        },
        "id": "1bPyLmEqhnO6",
        "outputId": "16c377c9-3187-4877-d141-386a38ef6a4f"
      },
      "execution_count": 56,
      "outputs": [
        {
          "output_type": "stream",
          "name": "stdout",
          "text": [
            "              precision    recall  f1-score   support\n",
            "\n",
            "           0       0.80      0.88      0.84       276\n",
            "           1       0.92      0.82      0.87       277\n",
            "           2       0.83      0.92      0.87       276\n",
            "           3       0.90      0.81      0.85       276\n",
            "\n",
            "    accuracy                           0.86      1105\n",
            "   macro avg       0.86      0.86      0.86      1105\n",
            "weighted avg       0.86      0.86      0.86      1105\n",
            "\n"
          ]
        }
      ]
    },
    {
      "cell_type": "code",
      "source": [
        "from sklearn.metrics import confusion_matrix\n",
        "cm = confusion_matrix(y_test, y_pred)\n",
        "cm\n",
        "\n",
        "from matplotlib import pyplot as plt\n",
        "import seaborn as sn\n",
        "plt.figure(figsize = (10,7))\n",
        "sn.heatmap(cm, annot=True, fmt='d')\n",
        "plt.xlabel('Prediction')\n",
        "plt.ylabel('Truth')"
      ],
      "metadata": {
        "colab": {
          "base_uri": "https://localhost:8080/",
          "height": 636
        },
        "id": "WF4qHL2ih0Oj",
        "outputId": "c2e80f86-d164-42f1-b1e9-176982f5476b"
      },
      "execution_count": 57,
      "outputs": [
        {
          "output_type": "execute_result",
          "data": {
            "text/plain": [
              "Text(95.72222222222221, 0.5, 'Truth')"
            ]
          },
          "metadata": {},
          "execution_count": 57
        },
        {
          "output_type": "display_data",
          "data": {
            "text/plain": [
              "<Figure size 1000x700 with 2 Axes>"
            ],
            "image/png": "[encoded data removed]"
          },
          "metadata": {}
        }
      ]
    }
  ]
}